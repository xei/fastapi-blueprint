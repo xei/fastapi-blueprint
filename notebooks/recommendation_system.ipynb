{
  "nbformat": 4,
  "nbformat_minor": 0,
  "metadata": {
    "colab": {
      "provenance": [],
      "authorship_tag": "ABX9TyP79e6DHaHuojjJWk1f90eH",
      "include_colab_link": true
    },
    "kernelspec": {
      "name": "python3",
      "display_name": "Python 3"
    },
    "widgets": {
      "application/vnd.jupyter.widget-state+json": {
        "ea5b93232e074516a4080b0ad9a2cdab": {
          "model_module": "@jupyter-widgets/controls",
          "model_name": "HBoxModel",
          "state": {
            "_view_name": "HBoxView",
            "_dom_classes": [],
            "_model_name": "HBoxModel",
            "_view_module": "@jupyter-widgets/controls",
            "_model_module_version": "1.5.0",
            "_view_count": null,
            "_view_module_version": "1.5.0",
            "box_style": "",
            "layout": "IPY_MODEL_900f4ad555054a6ca77ed884a45fbf35",
            "_model_module": "@jupyter-widgets/controls",
            "children": [
              "IPY_MODEL_0963310a6d084fdc8208f1b363a29211",
              "IPY_MODEL_0580069a5c57483c9f6846a9aa6db291"
            ]
          },
          "model_module_version": "1.5.0"
        },
        "900f4ad555054a6ca77ed884a45fbf35": {
          "model_module": "@jupyter-widgets/base",
          "model_name": "LayoutModel",
          "state": {
            "_view_name": "LayoutView",
            "grid_template_rows": null,
            "right": null,
            "justify_content": null,
            "_view_module": "@jupyter-widgets/base",
            "overflow": null,
            "_model_module_version": "1.2.0",
            "_view_count": null,
            "flex_flow": null,
            "width": null,
            "min_width": null,
            "border": null,
            "align_items": null,
            "bottom": null,
            "_model_module": "@jupyter-widgets/base",
            "top": null,
            "grid_column": null,
            "overflow_y": null,
            "overflow_x": null,
            "grid_auto_flow": null,
            "grid_area": null,
            "grid_template_columns": null,
            "flex": null,
            "_model_name": "LayoutModel",
            "justify_items": null,
            "grid_row": null,
            "max_height": null,
            "align_content": null,
            "visibility": null,
            "align_self": null,
            "height": null,
            "min_height": null,
            "padding": null,
            "grid_auto_rows": null,
            "grid_gap": null,
            "max_width": null,
            "order": null,
            "_view_module_version": "1.2.0",
            "grid_template_areas": null,
            "object_position": null,
            "object_fit": null,
            "grid_auto_columns": null,
            "margin": null,
            "display": null,
            "left": null
          },
          "model_module_version": "1.2.0"
        },
        "0963310a6d084fdc8208f1b363a29211": {
          "model_module": "@jupyter-widgets/controls",
          "model_name": "FloatProgressModel",
          "state": {
            "_view_name": "ProgressView",
            "style": "IPY_MODEL_3b378b731e1f4b8e8fb9816ba81e8b74",
            "_dom_classes": [],
            "description": "Dl Completed...: 100%",
            "_model_name": "FloatProgressModel",
            "bar_style": "success",
            "max": 1,
            "_view_module": "@jupyter-widgets/controls",
            "_model_module_version": "1.5.0",
            "value": 1,
            "_view_count": null,
            "_view_module_version": "1.5.0",
            "orientation": "horizontal",
            "min": 0,
            "description_tooltip": null,
            "_model_module": "@jupyter-widgets/controls",
            "layout": "IPY_MODEL_b236d50d19be4c76bae026d0da730bba"
          },
          "model_module_version": "1.5.0"
        },
        "0580069a5c57483c9f6846a9aa6db291": {
          "model_module": "@jupyter-widgets/controls",
          "model_name": "HTMLModel",
          "state": {
            "_view_name": "HTMLView",
            "style": "IPY_MODEL_9795286e7edf491aafd1e22d521d952f",
            "_dom_classes": [],
            "description": "",
            "_model_name": "HTMLModel",
            "placeholder": "​",
            "_view_module": "@jupyter-widgets/controls",
            "_model_module_version": "1.5.0",
            "value": " 1/1 [08:08&lt;00:00, 488.42s/ url]",
            "_view_count": null,
            "_view_module_version": "1.5.0",
            "description_tooltip": null,
            "_model_module": "@jupyter-widgets/controls",
            "layout": "IPY_MODEL_5977c1713b764e66871ced349d9da0b4"
          },
          "model_module_version": "1.5.0"
        },
        "3b378b731e1f4b8e8fb9816ba81e8b74": {
          "model_module": "@jupyter-widgets/controls",
          "model_name": "ProgressStyleModel",
          "state": {
            "_view_name": "StyleView",
            "_model_name": "ProgressStyleModel",
            "description_width": "initial",
            "_view_module": "@jupyter-widgets/base",
            "_model_module_version": "1.5.0",
            "_view_count": null,
            "_view_module_version": "1.2.0",
            "bar_color": null,
            "_model_module": "@jupyter-widgets/controls"
          },
          "model_module_version": "1.5.0"
        },
        "b236d50d19be4c76bae026d0da730bba": {
          "model_module": "@jupyter-widgets/base",
          "model_name": "LayoutModel",
          "state": {
            "_view_name": "LayoutView",
            "grid_template_rows": null,
            "right": null,
            "justify_content": null,
            "_view_module": "@jupyter-widgets/base",
            "overflow": null,
            "_model_module_version": "1.2.0",
            "_view_count": null,
            "flex_flow": null,
            "width": null,
            "min_width": null,
            "border": null,
            "align_items": null,
            "bottom": null,
            "_model_module": "@jupyter-widgets/base",
            "top": null,
            "grid_column": null,
            "overflow_y": null,
            "overflow_x": null,
            "grid_auto_flow": null,
            "grid_area": null,
            "grid_template_columns": null,
            "flex": null,
            "_model_name": "LayoutModel",
            "justify_items": null,
            "grid_row": null,
            "max_height": null,
            "align_content": null,
            "visibility": null,
            "align_self": null,
            "height": null,
            "min_height": null,
            "padding": null,
            "grid_auto_rows": null,
            "grid_gap": null,
            "max_width": null,
            "order": null,
            "_view_module_version": "1.2.0",
            "grid_template_areas": null,
            "object_position": null,
            "object_fit": null,
            "grid_auto_columns": null,
            "margin": null,
            "display": null,
            "left": null
          },
          "model_module_version": "1.2.0"
        },
        "9795286e7edf491aafd1e22d521d952f": {
          "model_module": "@jupyter-widgets/controls",
          "model_name": "DescriptionStyleModel",
          "state": {
            "_view_name": "StyleView",
            "_model_name": "DescriptionStyleModel",
            "description_width": "",
            "_view_module": "@jupyter-widgets/base",
            "_model_module_version": "1.5.0",
            "_view_count": null,
            "_view_module_version": "1.2.0",
            "_model_module": "@jupyter-widgets/controls"
          },
          "model_module_version": "1.5.0"
        },
        "5977c1713b764e66871ced349d9da0b4": {
          "model_module": "@jupyter-widgets/base",
          "model_name": "LayoutModel",
          "state": {
            "_view_name": "LayoutView",
            "grid_template_rows": null,
            "right": null,
            "justify_content": null,
            "_view_module": "@jupyter-widgets/base",
            "overflow": null,
            "_model_module_version": "1.2.0",
            "_view_count": null,
            "flex_flow": null,
            "width": null,
            "min_width": null,
            "border": null,
            "align_items": null,
            "bottom": null,
            "_model_module": "@jupyter-widgets/base",
            "top": null,
            "grid_column": null,
            "overflow_y": null,
            "overflow_x": null,
            "grid_auto_flow": null,
            "grid_area": null,
            "grid_template_columns": null,
            "flex": null,
            "_model_name": "LayoutModel",
            "justify_items": null,
            "grid_row": null,
            "max_height": null,
            "align_content": null,
            "visibility": null,
            "align_self": null,
            "height": null,
            "min_height": null,
            "padding": null,
            "grid_auto_rows": null,
            "grid_gap": null,
            "max_width": null,
            "order": null,
            "_view_module_version": "1.2.0",
            "grid_template_areas": null,
            "object_position": null,
            "object_fit": null,
            "grid_auto_columns": null,
            "margin": null,
            "display": null,
            "left": null
          },
          "model_module_version": "1.2.0"
        },
        "9326e8a7c4294b179dade4caa38ed166": {
          "model_module": "@jupyter-widgets/controls",
          "model_name": "HBoxModel",
          "state": {
            "_view_name": "HBoxView",
            "_dom_classes": [],
            "_model_name": "HBoxModel",
            "_view_module": "@jupyter-widgets/controls",
            "_model_module_version": "1.5.0",
            "_view_count": null,
            "_view_module_version": "1.5.0",
            "box_style": "",
            "layout": "IPY_MODEL_d4555d4b75b843cb92fb2747a2dd42cd",
            "_model_module": "@jupyter-widgets/controls",
            "children": [
              "IPY_MODEL_1a440a70159647a787d829c78b0a8e70",
              "IPY_MODEL_6ae3e6fefc354de1a3a4b37543fa73d0"
            ]
          },
          "model_module_version": "1.5.0"
        },
        "d4555d4b75b843cb92fb2747a2dd42cd": {
          "model_module": "@jupyter-widgets/base",
          "model_name": "LayoutModel",
          "state": {
            "_view_name": "LayoutView",
            "grid_template_rows": null,
            "right": null,
            "justify_content": null,
            "_view_module": "@jupyter-widgets/base",
            "overflow": null,
            "_model_module_version": "1.2.0",
            "_view_count": null,
            "flex_flow": null,
            "width": null,
            "min_width": null,
            "border": null,
            "align_items": null,
            "bottom": null,
            "_model_module": "@jupyter-widgets/base",
            "top": null,
            "grid_column": null,
            "overflow_y": null,
            "overflow_x": null,
            "grid_auto_flow": null,
            "grid_area": null,
            "grid_template_columns": null,
            "flex": null,
            "_model_name": "LayoutModel",
            "justify_items": null,
            "grid_row": null,
            "max_height": null,
            "align_content": null,
            "visibility": null,
            "align_self": null,
            "height": null,
            "min_height": null,
            "padding": null,
            "grid_auto_rows": null,
            "grid_gap": null,
            "max_width": null,
            "order": null,
            "_view_module_version": "1.2.0",
            "grid_template_areas": null,
            "object_position": null,
            "object_fit": null,
            "grid_auto_columns": null,
            "margin": null,
            "display": null,
            "left": null
          },
          "model_module_version": "1.2.0"
        },
        "1a440a70159647a787d829c78b0a8e70": {
          "model_module": "@jupyter-widgets/controls",
          "model_name": "FloatProgressModel",
          "state": {
            "_view_name": "ProgressView",
            "style": "IPY_MODEL_7438901fa0824aa6a646f02e76f5b3cf",
            "_dom_classes": [],
            "description": "Dl Size...: 100%",
            "_model_name": "FloatProgressModel",
            "bar_style": "success",
            "max": 1,
            "_view_module": "@jupyter-widgets/controls",
            "_model_module_version": "1.5.0",
            "value": 1,
            "_view_count": null,
            "_view_module_version": "1.5.0",
            "orientation": "horizontal",
            "min": 0,
            "description_tooltip": null,
            "_model_module": "@jupyter-widgets/controls",
            "layout": "IPY_MODEL_8ed75df013804400bf92f02d1523346b"
          },
          "model_module_version": "1.5.0"
        },
        "6ae3e6fefc354de1a3a4b37543fa73d0": {
          "model_module": "@jupyter-widgets/controls",
          "model_name": "HTMLModel",
          "state": {
            "_view_name": "HTMLView",
            "style": "IPY_MODEL_31eb5e5c9d4145758a411156d54821b8",
            "_dom_classes": [],
            "description": "",
            "_model_name": "HTMLModel",
            "placeholder": "​",
            "_view_module": "@jupyter-widgets/controls",
            "_model_module_version": "1.5.0",
            "value": " 4/4 [08:08&lt;00:00, 122.10s/ MiB]",
            "_view_count": null,
            "_view_module_version": "1.5.0",
            "description_tooltip": null,
            "_model_module": "@jupyter-widgets/controls",
            "layout": "IPY_MODEL_b544800abecc4a27a3ead1140fff34cb"
          },
          "model_module_version": "1.5.0"
        },
        "7438901fa0824aa6a646f02e76f5b3cf": {
          "model_module": "@jupyter-widgets/controls",
          "model_name": "ProgressStyleModel",
          "state": {
            "_view_name": "StyleView",
            "_model_name": "ProgressStyleModel",
            "description_width": "initial",
            "_view_module": "@jupyter-widgets/base",
            "_model_module_version": "1.5.0",
            "_view_count": null,
            "_view_module_version": "1.2.0",
            "bar_color": null,
            "_model_module": "@jupyter-widgets/controls"
          },
          "model_module_version": "1.5.0"
        },
        "8ed75df013804400bf92f02d1523346b": {
          "model_module": "@jupyter-widgets/base",
          "model_name": "LayoutModel",
          "state": {
            "_view_name": "LayoutView",
            "grid_template_rows": null,
            "right": null,
            "justify_content": null,
            "_view_module": "@jupyter-widgets/base",
            "overflow": null,
            "_model_module_version": "1.2.0",
            "_view_count": null,
            "flex_flow": null,
            "width": null,
            "min_width": null,
            "border": null,
            "align_items": null,
            "bottom": null,
            "_model_module": "@jupyter-widgets/base",
            "top": null,
            "grid_column": null,
            "overflow_y": null,
            "overflow_x": null,
            "grid_auto_flow": null,
            "grid_area": null,
            "grid_template_columns": null,
            "flex": null,
            "_model_name": "LayoutModel",
            "justify_items": null,
            "grid_row": null,
            "max_height": null,
            "align_content": null,
            "visibility": null,
            "align_self": null,
            "height": null,
            "min_height": null,
            "padding": null,
            "grid_auto_rows": null,
            "grid_gap": null,
            "max_width": null,
            "order": null,
            "_view_module_version": "1.2.0",
            "grid_template_areas": null,
            "object_position": null,
            "object_fit": null,
            "grid_auto_columns": null,
            "margin": null,
            "display": null,
            "left": null
          },
          "model_module_version": "1.2.0"
        },
        "31eb5e5c9d4145758a411156d54821b8": {
          "model_module": "@jupyter-widgets/controls",
          "model_name": "DescriptionStyleModel",
          "state": {
            "_view_name": "StyleView",
            "_model_name": "DescriptionStyleModel",
            "description_width": "",
            "_view_module": "@jupyter-widgets/base",
            "_model_module_version": "1.5.0",
            "_view_count": null,
            "_view_module_version": "1.2.0",
            "_model_module": "@jupyter-widgets/controls"
          },
          "model_module_version": "1.5.0"
        },
        "b544800abecc4a27a3ead1140fff34cb": {
          "model_module": "@jupyter-widgets/base",
          "model_name": "LayoutModel",
          "state": {
            "_view_name": "LayoutView",
            "grid_template_rows": null,
            "right": null,
            "justify_content": null,
            "_view_module": "@jupyter-widgets/base",
            "overflow": null,
            "_model_module_version": "1.2.0",
            "_view_count": null,
            "flex_flow": null,
            "width": null,
            "min_width": null,
            "border": null,
            "align_items": null,
            "bottom": null,
            "_model_module": "@jupyter-widgets/base",
            "top": null,
            "grid_column": null,
            "overflow_y": null,
            "overflow_x": null,
            "grid_auto_flow": null,
            "grid_area": null,
            "grid_template_columns": null,
            "flex": null,
            "_model_name": "LayoutModel",
            "justify_items": null,
            "grid_row": null,
            "max_height": null,
            "align_content": null,
            "visibility": null,
            "align_self": null,
            "height": null,
            "min_height": null,
            "padding": null,
            "grid_auto_rows": null,
            "grid_gap": null,
            "max_width": null,
            "order": null,
            "_view_module_version": "1.2.0",
            "grid_template_areas": null,
            "object_position": null,
            "object_fit": null,
            "grid_auto_columns": null,
            "margin": null,
            "display": null,
            "left": null
          },
          "model_module_version": "1.2.0"
        },
        "acda6ebe40d14e0c900b0dfbe5ce5e4b": {
          "model_module": "@jupyter-widgets/controls",
          "model_name": "HBoxModel",
          "state": {
            "_view_name": "HBoxView",
            "_dom_classes": [],
            "_model_name": "HBoxModel",
            "_view_module": "@jupyter-widgets/controls",
            "_model_module_version": "1.5.0",
            "_view_count": null,
            "_view_module_version": "1.5.0",
            "box_style": "",
            "layout": "IPY_MODEL_2666e29dc6d24ad1aa099a75e823c416",
            "_model_module": "@jupyter-widgets/controls",
            "children": [
              "IPY_MODEL_8ed01c6cb3ab4bdfa00d15cd6f259d37",
              "IPY_MODEL_7017189a8391408aa20dd60715dc8706"
            ]
          },
          "model_module_version": "1.5.0"
        },
        "2666e29dc6d24ad1aa099a75e823c416": {
          "model_module": "@jupyter-widgets/base",
          "model_name": "LayoutModel",
          "state": {
            "_view_name": "LayoutView",
            "grid_template_rows": null,
            "right": null,
            "justify_content": null,
            "_view_module": "@jupyter-widgets/base",
            "overflow": null,
            "_model_module_version": "1.2.0",
            "_view_count": null,
            "flex_flow": null,
            "width": null,
            "min_width": null,
            "border": null,
            "align_items": null,
            "bottom": null,
            "_model_module": "@jupyter-widgets/base",
            "top": null,
            "grid_column": null,
            "overflow_y": null,
            "overflow_x": null,
            "grid_auto_flow": null,
            "grid_area": null,
            "grid_template_columns": null,
            "flex": null,
            "_model_name": "LayoutModel",
            "justify_items": null,
            "grid_row": null,
            "max_height": null,
            "align_content": null,
            "visibility": null,
            "align_self": null,
            "height": null,
            "min_height": null,
            "padding": null,
            "grid_auto_rows": null,
            "grid_gap": null,
            "max_width": null,
            "order": null,
            "_view_module_version": "1.2.0",
            "grid_template_areas": null,
            "object_position": null,
            "object_fit": null,
            "grid_auto_columns": null,
            "margin": null,
            "display": null,
            "left": null
          },
          "model_module_version": "1.2.0"
        },
        "8ed01c6cb3ab4bdfa00d15cd6f259d37": {
          "model_module": "@jupyter-widgets/controls",
          "model_name": "FloatProgressModel",
          "state": {
            "_view_name": "ProgressView",
            "style": "IPY_MODEL_57cab894bd8b439a95cfb4504d5f7a4c",
            "_dom_classes": [],
            "description": "Extraction completed...: 100%",
            "_model_name": "FloatProgressModel",
            "bar_style": "success",
            "max": 1,
            "_view_module": "@jupyter-widgets/controls",
            "_model_module_version": "1.5.0",
            "value": 1,
            "_view_count": null,
            "_view_module_version": "1.5.0",
            "orientation": "horizontal",
            "min": 0,
            "description_tooltip": null,
            "_model_module": "@jupyter-widgets/controls",
            "layout": "IPY_MODEL_1cf5f270aca64dae97420a160561e805"
          },
          "model_module_version": "1.5.0"
        },
        "7017189a8391408aa20dd60715dc8706": {
          "model_module": "@jupyter-widgets/controls",
          "model_name": "HTMLModel",
          "state": {
            "_view_name": "HTMLView",
            "style": "IPY_MODEL_3be2b83f46ab48af8130060a9e4c3a44",
            "_dom_classes": [],
            "description": "",
            "_model_name": "HTMLModel",
            "placeholder": "​",
            "_view_module": "@jupyter-widgets/controls",
            "_model_module_version": "1.5.0",
            "value": " 1/1 [08:08&lt;00:00, 488.36s/ file]",
            "_view_count": null,
            "_view_module_version": "1.5.0",
            "description_tooltip": null,
            "_model_module": "@jupyter-widgets/controls",
            "layout": "IPY_MODEL_d1650d1d8e394c98aeff889f716c5882"
          },
          "model_module_version": "1.5.0"
        },
        "57cab894bd8b439a95cfb4504d5f7a4c": {
          "model_module": "@jupyter-widgets/controls",
          "model_name": "ProgressStyleModel",
          "state": {
            "_view_name": "StyleView",
            "_model_name": "ProgressStyleModel",
            "description_width": "initial",
            "_view_module": "@jupyter-widgets/base",
            "_model_module_version": "1.5.0",
            "_view_count": null,
            "_view_module_version": "1.2.0",
            "bar_color": null,
            "_model_module": "@jupyter-widgets/controls"
          },
          "model_module_version": "1.5.0"
        },
        "1cf5f270aca64dae97420a160561e805": {
          "model_module": "@jupyter-widgets/base",
          "model_name": "LayoutModel",
          "state": {
            "_view_name": "LayoutView",
            "grid_template_rows": null,
            "right": null,
            "justify_content": null,
            "_view_module": "@jupyter-widgets/base",
            "overflow": null,
            "_model_module_version": "1.2.0",
            "_view_count": null,
            "flex_flow": null,
            "width": null,
            "min_width": null,
            "border": null,
            "align_items": null,
            "bottom": null,
            "_model_module": "@jupyter-widgets/base",
            "top": null,
            "grid_column": null,
            "overflow_y": null,
            "overflow_x": null,
            "grid_auto_flow": null,
            "grid_area": null,
            "grid_template_columns": null,
            "flex": null,
            "_model_name": "LayoutModel",
            "justify_items": null,
            "grid_row": null,
            "max_height": null,
            "align_content": null,
            "visibility": null,
            "align_self": null,
            "height": null,
            "min_height": null,
            "padding": null,
            "grid_auto_rows": null,
            "grid_gap": null,
            "max_width": null,
            "order": null,
            "_view_module_version": "1.2.0",
            "grid_template_areas": null,
            "object_position": null,
            "object_fit": null,
            "grid_auto_columns": null,
            "margin": null,
            "display": null,
            "left": null
          },
          "model_module_version": "1.2.0"
        },
        "3be2b83f46ab48af8130060a9e4c3a44": {
          "model_module": "@jupyter-widgets/controls",
          "model_name": "DescriptionStyleModel",
          "state": {
            "_view_name": "StyleView",
            "_model_name": "DescriptionStyleModel",
            "description_width": "",
            "_view_module": "@jupyter-widgets/base",
            "_model_module_version": "1.5.0",
            "_view_count": null,
            "_view_module_version": "1.2.0",
            "_model_module": "@jupyter-widgets/controls"
          },
          "model_module_version": "1.5.0"
        },
        "d1650d1d8e394c98aeff889f716c5882": {
          "model_module": "@jupyter-widgets/base",
          "model_name": "LayoutModel",
          "state": {
            "_view_name": "LayoutView",
            "grid_template_rows": null,
            "right": null,
            "justify_content": null,
            "_view_module": "@jupyter-widgets/base",
            "overflow": null,
            "_model_module_version": "1.2.0",
            "_view_count": null,
            "flex_flow": null,
            "width": null,
            "min_width": null,
            "border": null,
            "align_items": null,
            "bottom": null,
            "_model_module": "@jupyter-widgets/base",
            "top": null,
            "grid_column": null,
            "overflow_y": null,
            "overflow_x": null,
            "grid_auto_flow": null,
            "grid_area": null,
            "grid_template_columns": null,
            "flex": null,
            "_model_name": "LayoutModel",
            "justify_items": null,
            "grid_row": null,
            "max_height": null,
            "align_content": null,
            "visibility": null,
            "align_self": null,
            "height": null,
            "min_height": null,
            "padding": null,
            "grid_auto_rows": null,
            "grid_gap": null,
            "max_width": null,
            "order": null,
            "_view_module_version": "1.2.0",
            "grid_template_areas": null,
            "object_position": null,
            "object_fit": null,
            "grid_auto_columns": null,
            "margin": null,
            "display": null,
            "left": null
          },
          "model_module_version": "1.2.0"
        },
        "c85db6d37ffa4aa999d4cc83c976b6f9": {
          "model_module": "@jupyter-widgets/controls",
          "model_name": "HBoxModel",
          "state": {
            "_view_name": "HBoxView",
            "_dom_classes": [],
            "_model_name": "HBoxModel",
            "_view_module": "@jupyter-widgets/controls",
            "_model_module_version": "1.5.0",
            "_view_count": null,
            "_view_module_version": "1.5.0",
            "box_style": "",
            "layout": "IPY_MODEL_19a07375053b41f992cdba81e8bf2a45",
            "_model_module": "@jupyter-widgets/controls",
            "children": [
              "IPY_MODEL_c11f63b8515b4deeb5aa087137daf740",
              "IPY_MODEL_28a2126547e54be387e39aa49fac5f06"
            ]
          },
          "model_module_version": "1.5.0"
        },
        "19a07375053b41f992cdba81e8bf2a45": {
          "model_module": "@jupyter-widgets/base",
          "model_name": "LayoutModel",
          "state": {
            "_view_name": "LayoutView",
            "grid_template_rows": null,
            "right": null,
            "justify_content": null,
            "_view_module": "@jupyter-widgets/base",
            "overflow": null,
            "_model_module_version": "1.2.0",
            "_view_count": null,
            "flex_flow": null,
            "width": null,
            "min_width": null,
            "border": null,
            "align_items": null,
            "bottom": null,
            "_model_module": "@jupyter-widgets/base",
            "top": null,
            "grid_column": null,
            "overflow_y": null,
            "overflow_x": null,
            "grid_auto_flow": null,
            "grid_area": null,
            "grid_template_columns": null,
            "flex": null,
            "_model_name": "LayoutModel",
            "justify_items": null,
            "grid_row": null,
            "max_height": null,
            "align_content": null,
            "visibility": null,
            "align_self": null,
            "height": null,
            "min_height": null,
            "padding": null,
            "grid_auto_rows": null,
            "grid_gap": null,
            "max_width": null,
            "order": null,
            "_view_module_version": "1.2.0",
            "grid_template_areas": null,
            "object_position": null,
            "object_fit": null,
            "grid_auto_columns": null,
            "margin": null,
            "display": null,
            "left": null
          },
          "model_module_version": "1.2.0"
        },
        "c11f63b8515b4deeb5aa087137daf740": {
          "model_module": "@jupyter-widgets/controls",
          "model_name": "FloatProgressModel",
          "state": {
            "_view_name": "ProgressView",
            "style": "IPY_MODEL_0286026a05c443659e30ffb06d7d173d",
            "_dom_classes": [],
            "description": "Generating splits...: 100%",
            "_model_name": "FloatProgressModel",
            "bar_style": "",
            "max": 1,
            "_view_module": "@jupyter-widgets/controls",
            "_model_module_version": "1.5.0",
            "value": 1,
            "_view_count": null,
            "_view_module_version": "1.5.0",
            "orientation": "horizontal",
            "min": 0,
            "description_tooltip": null,
            "_model_module": "@jupyter-widgets/controls",
            "layout": "IPY_MODEL_94c48efe95eb46569bc2b202c5af4a04"
          },
          "model_module_version": "1.5.0"
        },
        "28a2126547e54be387e39aa49fac5f06": {
          "model_module": "@jupyter-widgets/controls",
          "model_name": "HTMLModel",
          "state": {
            "_view_name": "HTMLView",
            "style": "IPY_MODEL_8a8275032aa748899183e1bd2462ad9a",
            "_dom_classes": [],
            "description": "",
            "_model_name": "HTMLModel",
            "placeholder": "​",
            "_view_module": "@jupyter-widgets/controls",
            "_model_module_version": "1.5.0",
            "value": " 1/1 [01:53&lt;00:00, 113.36s/ splits]",
            "_view_count": null,
            "_view_module_version": "1.5.0",
            "description_tooltip": null,
            "_model_module": "@jupyter-widgets/controls",
            "layout": "IPY_MODEL_2f73b9cf76c7461d9501bfbb97b0d8ae"
          },
          "model_module_version": "1.5.0"
        },
        "0286026a05c443659e30ffb06d7d173d": {
          "model_module": "@jupyter-widgets/controls",
          "model_name": "ProgressStyleModel",
          "state": {
            "_view_name": "StyleView",
            "_model_name": "ProgressStyleModel",
            "description_width": "initial",
            "_view_module": "@jupyter-widgets/base",
            "_model_module_version": "1.5.0",
            "_view_count": null,
            "_view_module_version": "1.2.0",
            "bar_color": null,
            "_model_module": "@jupyter-widgets/controls"
          },
          "model_module_version": "1.5.0"
        },
        "94c48efe95eb46569bc2b202c5af4a04": {
          "model_module": "@jupyter-widgets/base",
          "model_name": "LayoutModel",
          "state": {
            "_view_name": "LayoutView",
            "grid_template_rows": null,
            "right": null,
            "justify_content": null,
            "_view_module": "@jupyter-widgets/base",
            "overflow": null,
            "_model_module_version": "1.2.0",
            "_view_count": null,
            "flex_flow": null,
            "width": null,
            "min_width": null,
            "border": null,
            "align_items": null,
            "bottom": null,
            "_model_module": "@jupyter-widgets/base",
            "top": null,
            "grid_column": null,
            "overflow_y": null,
            "overflow_x": null,
            "grid_auto_flow": null,
            "grid_area": null,
            "grid_template_columns": null,
            "flex": null,
            "_model_name": "LayoutModel",
            "justify_items": null,
            "grid_row": null,
            "max_height": null,
            "align_content": null,
            "visibility": null,
            "align_self": null,
            "height": null,
            "min_height": null,
            "padding": null,
            "grid_auto_rows": null,
            "grid_gap": null,
            "max_width": null,
            "order": null,
            "_view_module_version": "1.2.0",
            "grid_template_areas": null,
            "object_position": null,
            "object_fit": null,
            "grid_auto_columns": null,
            "margin": null,
            "display": null,
            "left": null
          },
          "model_module_version": "1.2.0"
        },
        "8a8275032aa748899183e1bd2462ad9a": {
          "model_module": "@jupyter-widgets/controls",
          "model_name": "DescriptionStyleModel",
          "state": {
            "_view_name": "StyleView",
            "_model_name": "DescriptionStyleModel",
            "description_width": "",
            "_view_module": "@jupyter-widgets/base",
            "_model_module_version": "1.5.0",
            "_view_count": null,
            "_view_module_version": "1.2.0",
            "_model_module": "@jupyter-widgets/controls"
          },
          "model_module_version": "1.5.0"
        },
        "2f73b9cf76c7461d9501bfbb97b0d8ae": {
          "model_module": "@jupyter-widgets/base",
          "model_name": "LayoutModel",
          "state": {
            "_view_name": "LayoutView",
            "grid_template_rows": null,
            "right": null,
            "justify_content": null,
            "_view_module": "@jupyter-widgets/base",
            "overflow": null,
            "_model_module_version": "1.2.0",
            "_view_count": null,
            "flex_flow": null,
            "width": null,
            "min_width": null,
            "border": null,
            "align_items": null,
            "bottom": null,
            "_model_module": "@jupyter-widgets/base",
            "top": null,
            "grid_column": null,
            "overflow_y": null,
            "overflow_x": null,
            "grid_auto_flow": null,
            "grid_area": null,
            "grid_template_columns": null,
            "flex": null,
            "_model_name": "LayoutModel",
            "justify_items": null,
            "grid_row": null,
            "max_height": null,
            "align_content": null,
            "visibility": null,
            "align_self": null,
            "height": null,
            "min_height": null,
            "padding": null,
            "grid_auto_rows": null,
            "grid_gap": null,
            "max_width": null,
            "order": null,
            "_view_module_version": "1.2.0",
            "grid_template_areas": null,
            "object_position": null,
            "object_fit": null,
            "grid_auto_columns": null,
            "margin": null,
            "display": null,
            "left": null
          },
          "model_module_version": "1.2.0"
        },
        "58ed1e1811ff4457a32719fdf78acdab": {
          "model_module": "@jupyter-widgets/controls",
          "model_name": "HBoxModel",
          "state": {
            "_view_name": "HBoxView",
            "_dom_classes": [],
            "_model_name": "HBoxModel",
            "_view_module": "@jupyter-widgets/controls",
            "_model_module_version": "1.5.0",
            "_view_count": null,
            "_view_module_version": "1.5.0",
            "box_style": "",
            "layout": "IPY_MODEL_961d3dc212884b3ca94e50011ea51f9a",
            "_model_module": "@jupyter-widgets/controls",
            "children": [
              "IPY_MODEL_5b497e43f2ca4d85968694cdb26b2abe",
              "IPY_MODEL_e80f9f65078441f49124a6fa9f40a3c1"
            ]
          },
          "model_module_version": "1.5.0"
        },
        "961d3dc212884b3ca94e50011ea51f9a": {
          "model_module": "@jupyter-widgets/base",
          "model_name": "LayoutModel",
          "state": {
            "_view_name": "LayoutView",
            "grid_template_rows": null,
            "right": null,
            "justify_content": null,
            "_view_module": "@jupyter-widgets/base",
            "overflow": null,
            "_model_module_version": "1.2.0",
            "_view_count": null,
            "flex_flow": null,
            "width": null,
            "min_width": null,
            "border": null,
            "align_items": null,
            "bottom": null,
            "_model_module": "@jupyter-widgets/base",
            "top": null,
            "grid_column": null,
            "overflow_y": null,
            "overflow_x": null,
            "grid_auto_flow": null,
            "grid_area": null,
            "grid_template_columns": null,
            "flex": null,
            "_model_name": "LayoutModel",
            "justify_items": null,
            "grid_row": null,
            "max_height": null,
            "align_content": null,
            "visibility": null,
            "align_self": null,
            "height": null,
            "min_height": null,
            "padding": null,
            "grid_auto_rows": null,
            "grid_gap": null,
            "max_width": null,
            "order": null,
            "_view_module_version": "1.2.0",
            "grid_template_areas": null,
            "object_position": null,
            "object_fit": null,
            "grid_auto_columns": null,
            "margin": null,
            "display": null,
            "left": null
          },
          "model_module_version": "1.2.0"
        },
        "5b497e43f2ca4d85968694cdb26b2abe": {
          "model_module": "@jupyter-widgets/controls",
          "model_name": "FloatProgressModel",
          "state": {
            "_view_name": "ProgressView",
            "style": "IPY_MODEL_9780af5babd34f4e8b76603c2f264b38",
            "_dom_classes": [],
            "description": "Generating train examples...: 100%",
            "_model_name": "FloatProgressModel",
            "bar_style": "",
            "max": 100000,
            "_view_module": "@jupyter-widgets/controls",
            "_model_module_version": "1.5.0",
            "value": 100000,
            "_view_count": null,
            "_view_module_version": "1.5.0",
            "orientation": "horizontal",
            "min": 0,
            "description_tooltip": null,
            "_model_module": "@jupyter-widgets/controls",
            "layout": "IPY_MODEL_8ef465ec4cc6476fb1e778d791b1be16"
          },
          "model_module_version": "1.5.0"
        },
        "e80f9f65078441f49124a6fa9f40a3c1": {
          "model_module": "@jupyter-widgets/controls",
          "model_name": "HTMLModel",
          "state": {
            "_view_name": "HTMLView",
            "style": "IPY_MODEL_861c39af868e424ba6b3bdf032691bf4",
            "_dom_classes": [],
            "description": "",
            "_model_name": "HTMLModel",
            "placeholder": "​",
            "_view_module": "@jupyter-widgets/controls",
            "_model_module_version": "1.5.0",
            "value": " 100000/100000 [01:52&lt;00:00, 1004.49 examples/s]",
            "_view_count": null,
            "_view_module_version": "1.5.0",
            "description_tooltip": null,
            "_model_module": "@jupyter-widgets/controls",
            "layout": "IPY_MODEL_c91f7c69a8764ae38d4e728fb38e1439"
          },
          "model_module_version": "1.5.0"
        },
        "9780af5babd34f4e8b76603c2f264b38": {
          "model_module": "@jupyter-widgets/controls",
          "model_name": "ProgressStyleModel",
          "state": {
            "_view_name": "StyleView",
            "_model_name": "ProgressStyleModel",
            "description_width": "initial",
            "_view_module": "@jupyter-widgets/base",
            "_model_module_version": "1.5.0",
            "_view_count": null,
            "_view_module_version": "1.2.0",
            "bar_color": null,
            "_model_module": "@jupyter-widgets/controls"
          },
          "model_module_version": "1.5.0"
        },
        "8ef465ec4cc6476fb1e778d791b1be16": {
          "model_module": "@jupyter-widgets/base",
          "model_name": "LayoutModel",
          "state": {
            "_view_name": "LayoutView",
            "grid_template_rows": null,
            "right": null,
            "justify_content": null,
            "_view_module": "@jupyter-widgets/base",
            "overflow": null,
            "_model_module_version": "1.2.0",
            "_view_count": null,
            "flex_flow": null,
            "width": null,
            "min_width": null,
            "border": null,
            "align_items": null,
            "bottom": null,
            "_model_module": "@jupyter-widgets/base",
            "top": null,
            "grid_column": null,
            "overflow_y": null,
            "overflow_x": null,
            "grid_auto_flow": null,
            "grid_area": null,
            "grid_template_columns": null,
            "flex": null,
            "_model_name": "LayoutModel",
            "justify_items": null,
            "grid_row": null,
            "max_height": null,
            "align_content": null,
            "visibility": null,
            "align_self": null,
            "height": null,
            "min_height": null,
            "padding": null,
            "grid_auto_rows": null,
            "grid_gap": null,
            "max_width": null,
            "order": null,
            "_view_module_version": "1.2.0",
            "grid_template_areas": null,
            "object_position": null,
            "object_fit": null,
            "grid_auto_columns": null,
            "margin": null,
            "display": null,
            "left": null
          },
          "model_module_version": "1.2.0"
        },
        "861c39af868e424ba6b3bdf032691bf4": {
          "model_module": "@jupyter-widgets/controls",
          "model_name": "DescriptionStyleModel",
          "state": {
            "_view_name": "StyleView",
            "_model_name": "DescriptionStyleModel",
            "description_width": "",
            "_view_module": "@jupyter-widgets/base",
            "_model_module_version": "1.5.0",
            "_view_count": null,
            "_view_module_version": "1.2.0",
            "_model_module": "@jupyter-widgets/controls"
          },
          "model_module_version": "1.5.0"
        },
        "c91f7c69a8764ae38d4e728fb38e1439": {
          "model_module": "@jupyter-widgets/base",
          "model_name": "LayoutModel",
          "state": {
            "_view_name": "LayoutView",
            "grid_template_rows": null,
            "right": null,
            "justify_content": null,
            "_view_module": "@jupyter-widgets/base",
            "overflow": null,
            "_model_module_version": "1.2.0",
            "_view_count": null,
            "flex_flow": null,
            "width": null,
            "min_width": null,
            "border": null,
            "align_items": null,
            "bottom": null,
            "_model_module": "@jupyter-widgets/base",
            "top": null,
            "grid_column": null,
            "overflow_y": null,
            "overflow_x": null,
            "grid_auto_flow": null,
            "grid_area": null,
            "grid_template_columns": null,
            "flex": null,
            "_model_name": "LayoutModel",
            "justify_items": null,
            "grid_row": null,
            "max_height": null,
            "align_content": null,
            "visibility": null,
            "align_self": null,
            "height": null,
            "min_height": null,
            "padding": null,
            "grid_auto_rows": null,
            "grid_gap": null,
            "max_width": null,
            "order": null,
            "_view_module_version": "1.2.0",
            "grid_template_areas": null,
            "object_position": null,
            "object_fit": null,
            "grid_auto_columns": null,
            "margin": null,
            "display": null,
            "left": null
          },
          "model_module_version": "1.2.0"
        },
        "a76bdd5541c94629a93544f9b6d3bae1": {
          "model_module": "@jupyter-widgets/controls",
          "model_name": "HBoxModel",
          "state": {
            "_view_name": "HBoxView",
            "_dom_classes": [],
            "_model_name": "HBoxModel",
            "_view_module": "@jupyter-widgets/controls",
            "_model_module_version": "1.5.0",
            "_view_count": null,
            "_view_module_version": "1.5.0",
            "box_style": "",
            "layout": "IPY_MODEL_301f2591588f41fb8b008258f2fe7456",
            "_model_module": "@jupyter-widgets/controls",
            "children": [
              "IPY_MODEL_0754bec9f95442e59ce6eaf8186da0b2",
              "IPY_MODEL_83401ea6578044a1b9d279170258a065"
            ]
          },
          "model_module_version": "1.5.0"
        },
        "301f2591588f41fb8b008258f2fe7456": {
          "model_module": "@jupyter-widgets/base",
          "model_name": "LayoutModel",
          "state": {
            "_view_name": "LayoutView",
            "grid_template_rows": null,
            "right": null,
            "justify_content": null,
            "_view_module": "@jupyter-widgets/base",
            "overflow": null,
            "_model_module_version": "1.2.0",
            "_view_count": null,
            "flex_flow": null,
            "width": null,
            "min_width": null,
            "border": null,
            "align_items": null,
            "bottom": null,
            "_model_module": "@jupyter-widgets/base",
            "top": null,
            "grid_column": null,
            "overflow_y": null,
            "overflow_x": null,
            "grid_auto_flow": null,
            "grid_area": null,
            "grid_template_columns": null,
            "flex": null,
            "_model_name": "LayoutModel",
            "justify_items": null,
            "grid_row": null,
            "max_height": null,
            "align_content": null,
            "visibility": null,
            "align_self": null,
            "height": null,
            "min_height": null,
            "padding": null,
            "grid_auto_rows": null,
            "grid_gap": null,
            "max_width": null,
            "order": null,
            "_view_module_version": "1.2.0",
            "grid_template_areas": null,
            "object_position": null,
            "object_fit": null,
            "grid_auto_columns": null,
            "margin": null,
            "display": null,
            "left": null
          },
          "model_module_version": "1.2.0"
        },
        "0754bec9f95442e59ce6eaf8186da0b2": {
          "model_module": "@jupyter-widgets/controls",
          "model_name": "FloatProgressModel",
          "state": {
            "_view_name": "ProgressView",
            "style": "IPY_MODEL_cfc5f8517e974f46a1469465ed8be3c9",
            "_dom_classes": [],
            "description": "Shuffling movielens-train.tfrecord...: 100%",
            "_model_name": "FloatProgressModel",
            "bar_style": "",
            "max": 100000,
            "_view_module": "@jupyter-widgets/controls",
            "_model_module_version": "1.5.0",
            "value": 100000,
            "_view_count": null,
            "_view_module_version": "1.5.0",
            "orientation": "horizontal",
            "min": 0,
            "description_tooltip": null,
            "_model_module": "@jupyter-widgets/controls",
            "layout": "IPY_MODEL_07976623a03643888c66bdbf7b2cef01"
          },
          "model_module_version": "1.5.0"
        },
        "83401ea6578044a1b9d279170258a065": {
          "model_module": "@jupyter-widgets/controls",
          "model_name": "HTMLModel",
          "state": {
            "_view_name": "HTMLView",
            "style": "IPY_MODEL_8f2cd32039cb4fd78b0ed7a48369014e",
            "_dom_classes": [],
            "description": "",
            "_model_name": "HTMLModel",
            "placeholder": "​",
            "_view_module": "@jupyter-widgets/controls",
            "_model_module_version": "1.5.0",
            "value": " 100000/100000 [00:00&lt;00:00, 15.23 examples/s]",
            "_view_count": null,
            "_view_module_version": "1.5.0",
            "description_tooltip": null,
            "_model_module": "@jupyter-widgets/controls",
            "layout": "IPY_MODEL_0edcca2c747f44048d35c8ac27d745a2"
          },
          "model_module_version": "1.5.0"
        },
        "cfc5f8517e974f46a1469465ed8be3c9": {
          "model_module": "@jupyter-widgets/controls",
          "model_name": "ProgressStyleModel",
          "state": {
            "_view_name": "StyleView",
            "_model_name": "ProgressStyleModel",
            "description_width": "initial",
            "_view_module": "@jupyter-widgets/base",
            "_model_module_version": "1.5.0",
            "_view_count": null,
            "_view_module_version": "1.2.0",
            "bar_color": null,
            "_model_module": "@jupyter-widgets/controls"
          },
          "model_module_version": "1.5.0"
        },
        "07976623a03643888c66bdbf7b2cef01": {
          "model_module": "@jupyter-widgets/base",
          "model_name": "LayoutModel",
          "state": {
            "_view_name": "LayoutView",
            "grid_template_rows": null,
            "right": null,
            "justify_content": null,
            "_view_module": "@jupyter-widgets/base",
            "overflow": null,
            "_model_module_version": "1.2.0",
            "_view_count": null,
            "flex_flow": null,
            "width": null,
            "min_width": null,
            "border": null,
            "align_items": null,
            "bottom": null,
            "_model_module": "@jupyter-widgets/base",
            "top": null,
            "grid_column": null,
            "overflow_y": null,
            "overflow_x": null,
            "grid_auto_flow": null,
            "grid_area": null,
            "grid_template_columns": null,
            "flex": null,
            "_model_name": "LayoutModel",
            "justify_items": null,
            "grid_row": null,
            "max_height": null,
            "align_content": null,
            "visibility": null,
            "align_self": null,
            "height": null,
            "min_height": null,
            "padding": null,
            "grid_auto_rows": null,
            "grid_gap": null,
            "max_width": null,
            "order": null,
            "_view_module_version": "1.2.0",
            "grid_template_areas": null,
            "object_position": null,
            "object_fit": null,
            "grid_auto_columns": null,
            "margin": null,
            "display": null,
            "left": null
          },
          "model_module_version": "1.2.0"
        },
        "8f2cd32039cb4fd78b0ed7a48369014e": {
          "model_module": "@jupyter-widgets/controls",
          "model_name": "DescriptionStyleModel",
          "state": {
            "_view_name": "StyleView",
            "_model_name": "DescriptionStyleModel",
            "description_width": "",
            "_view_module": "@jupyter-widgets/base",
            "_model_module_version": "1.5.0",
            "_view_count": null,
            "_view_module_version": "1.2.0",
            "_model_module": "@jupyter-widgets/controls"
          },
          "model_module_version": "1.5.0"
        },
        "0edcca2c747f44048d35c8ac27d745a2": {
          "model_module": "@jupyter-widgets/base",
          "model_name": "LayoutModel",
          "state": {
            "_view_name": "LayoutView",
            "grid_template_rows": null,
            "right": null,
            "justify_content": null,
            "_view_module": "@jupyter-widgets/base",
            "overflow": null,
            "_model_module_version": "1.2.0",
            "_view_count": null,
            "flex_flow": null,
            "width": null,
            "min_width": null,
            "border": null,
            "align_items": null,
            "bottom": null,
            "_model_module": "@jupyter-widgets/base",
            "top": null,
            "grid_column": null,
            "overflow_y": null,
            "overflow_x": null,
            "grid_auto_flow": null,
            "grid_area": null,
            "grid_template_columns": null,
            "flex": null,
            "_model_name": "LayoutModel",
            "justify_items": null,
            "grid_row": null,
            "max_height": null,
            "align_content": null,
            "visibility": null,
            "align_self": null,
            "height": null,
            "min_height": null,
            "padding": null,
            "grid_auto_rows": null,
            "grid_gap": null,
            "max_width": null,
            "order": null,
            "_view_module_version": "1.2.0",
            "grid_template_areas": null,
            "object_position": null,
            "object_fit": null,
            "grid_auto_columns": null,
            "margin": null,
            "display": null,
            "left": null
          },
          "model_module_version": "1.2.0"
        },
        "5836d1a2e06d4417a79a306987ca2a8d": {
          "model_module": "@jupyter-widgets/controls",
          "model_name": "HBoxModel",
          "state": {
            "_view_name": "HBoxView",
            "_dom_classes": [],
            "_model_name": "HBoxModel",
            "_view_module": "@jupyter-widgets/controls",
            "_model_module_version": "1.5.0",
            "_view_count": null,
            "_view_module_version": "1.5.0",
            "box_style": "",
            "layout": "IPY_MODEL_4c7f3f0497a442498e29140b13da3718",
            "_model_module": "@jupyter-widgets/controls",
            "children": [
              "IPY_MODEL_5eac2b4797f342589fdf1a729d69b4c4",
              "IPY_MODEL_82bc0ba55b52415ca3c1d092d402f0d8"
            ]
          },
          "model_module_version": "1.5.0"
        },
        "4c7f3f0497a442498e29140b13da3718": {
          "model_module": "@jupyter-widgets/base",
          "model_name": "LayoutModel",
          "state": {
            "_view_name": "LayoutView",
            "grid_template_rows": null,
            "right": null,
            "justify_content": null,
            "_view_module": "@jupyter-widgets/base",
            "overflow": null,
            "_model_module_version": "1.2.0",
            "_view_count": null,
            "flex_flow": null,
            "width": null,
            "min_width": null,
            "border": null,
            "align_items": null,
            "bottom": null,
            "_model_module": "@jupyter-widgets/base",
            "top": null,
            "grid_column": null,
            "overflow_y": null,
            "overflow_x": null,
            "grid_auto_flow": null,
            "grid_area": null,
            "grid_template_columns": null,
            "flex": null,
            "_model_name": "LayoutModel",
            "justify_items": null,
            "grid_row": null,
            "max_height": null,
            "align_content": null,
            "visibility": null,
            "align_self": null,
            "height": null,
            "min_height": null,
            "padding": null,
            "grid_auto_rows": null,
            "grid_gap": null,
            "max_width": null,
            "order": null,
            "_view_module_version": "1.2.0",
            "grid_template_areas": null,
            "object_position": null,
            "object_fit": null,
            "grid_auto_columns": null,
            "margin": null,
            "display": null,
            "left": null
          },
          "model_module_version": "1.2.0"
        },
        "5eac2b4797f342589fdf1a729d69b4c4": {
          "model_module": "@jupyter-widgets/controls",
          "model_name": "FloatProgressModel",
          "state": {
            "_view_name": "ProgressView",
            "style": "IPY_MODEL_4cead5ce2ec549389930e286008dbd43",
            "_dom_classes": [],
            "description": "Dl Completed...: ",
            "_model_name": "FloatProgressModel",
            "bar_style": "success",
            "max": 1,
            "_view_module": "@jupyter-widgets/controls",
            "_model_module_version": "1.5.0",
            "value": 0,
            "_view_count": null,
            "_view_module_version": "1.5.0",
            "orientation": "horizontal",
            "min": 0,
            "description_tooltip": null,
            "_model_module": "@jupyter-widgets/controls",
            "layout": "IPY_MODEL_43a37170841b406ead6ed8a0061290f5"
          },
          "model_module_version": "1.5.0"
        },
        "82bc0ba55b52415ca3c1d092d402f0d8": {
          "model_module": "@jupyter-widgets/controls",
          "model_name": "HTMLModel",
          "state": {
            "_view_name": "HTMLView",
            "style": "IPY_MODEL_f2df5ab944484b9aa5571b1f92fb31ae",
            "_dom_classes": [],
            "description": "",
            "_model_name": "HTMLModel",
            "placeholder": "​",
            "_view_module": "@jupyter-widgets/controls",
            "_model_module_version": "1.5.0",
            "value": " 0/0 [00:00&lt;?, ? url/s]",
            "_view_count": null,
            "_view_module_version": "1.5.0",
            "description_tooltip": null,
            "_model_module": "@jupyter-widgets/controls",
            "layout": "IPY_MODEL_78a235be12ae486cb85db74c9e0dc696"
          },
          "model_module_version": "1.5.0"
        },
        "4cead5ce2ec549389930e286008dbd43": {
          "model_module": "@jupyter-widgets/controls",
          "model_name": "ProgressStyleModel",
          "state": {
            "_view_name": "StyleView",
            "_model_name": "ProgressStyleModel",
            "description_width": "initial",
            "_view_module": "@jupyter-widgets/base",
            "_model_module_version": "1.5.0",
            "_view_count": null,
            "_view_module_version": "1.2.0",
            "bar_color": null,
            "_model_module": "@jupyter-widgets/controls"
          },
          "model_module_version": "1.5.0"
        },
        "43a37170841b406ead6ed8a0061290f5": {
          "model_module": "@jupyter-widgets/base",
          "model_name": "LayoutModel",
          "state": {
            "_view_name": "LayoutView",
            "grid_template_rows": null,
            "right": null,
            "justify_content": null,
            "_view_module": "@jupyter-widgets/base",
            "overflow": null,
            "_model_module_version": "1.2.0",
            "_view_count": null,
            "flex_flow": null,
            "width": null,
            "min_width": null,
            "border": null,
            "align_items": null,
            "bottom": null,
            "_model_module": "@jupyter-widgets/base",
            "top": null,
            "grid_column": null,
            "overflow_y": null,
            "overflow_x": null,
            "grid_auto_flow": null,
            "grid_area": null,
            "grid_template_columns": null,
            "flex": null,
            "_model_name": "LayoutModel",
            "justify_items": null,
            "grid_row": null,
            "max_height": null,
            "align_content": null,
            "visibility": null,
            "align_self": null,
            "height": null,
            "min_height": null,
            "padding": null,
            "grid_auto_rows": null,
            "grid_gap": null,
            "max_width": null,
            "order": null,
            "_view_module_version": "1.2.0",
            "grid_template_areas": null,
            "object_position": null,
            "object_fit": null,
            "grid_auto_columns": null,
            "margin": null,
            "display": null,
            "left": null
          },
          "model_module_version": "1.2.0"
        },
        "f2df5ab944484b9aa5571b1f92fb31ae": {
          "model_module": "@jupyter-widgets/controls",
          "model_name": "DescriptionStyleModel",
          "state": {
            "_view_name": "StyleView",
            "_model_name": "DescriptionStyleModel",
            "description_width": "",
            "_view_module": "@jupyter-widgets/base",
            "_model_module_version": "1.5.0",
            "_view_count": null,
            "_view_module_version": "1.2.0",
            "_model_module": "@jupyter-widgets/controls"
          },
          "model_module_version": "1.5.0"
        },
        "78a235be12ae486cb85db74c9e0dc696": {
          "model_module": "@jupyter-widgets/base",
          "model_name": "LayoutModel",
          "state": {
            "_view_name": "LayoutView",
            "grid_template_rows": null,
            "right": null,
            "justify_content": null,
            "_view_module": "@jupyter-widgets/base",
            "overflow": null,
            "_model_module_version": "1.2.0",
            "_view_count": null,
            "flex_flow": null,
            "width": null,
            "min_width": null,
            "border": null,
            "align_items": null,
            "bottom": null,
            "_model_module": "@jupyter-widgets/base",
            "top": null,
            "grid_column": null,
            "overflow_y": null,
            "overflow_x": null,
            "grid_auto_flow": null,
            "grid_area": null,
            "grid_template_columns": null,
            "flex": null,
            "_model_name": "LayoutModel",
            "justify_items": null,
            "grid_row": null,
            "max_height": null,
            "align_content": null,
            "visibility": null,
            "align_self": null,
            "height": null,
            "min_height": null,
            "padding": null,
            "grid_auto_rows": null,
            "grid_gap": null,
            "max_width": null,
            "order": null,
            "_view_module_version": "1.2.0",
            "grid_template_areas": null,
            "object_position": null,
            "object_fit": null,
            "grid_auto_columns": null,
            "margin": null,
            "display": null,
            "left": null
          },
          "model_module_version": "1.2.0"
        },
        "37d9b4c872a042bf83509aabf01e49cf": {
          "model_module": "@jupyter-widgets/controls",
          "model_name": "HBoxModel",
          "state": {
            "_view_name": "HBoxView",
            "_dom_classes": [],
            "_model_name": "HBoxModel",
            "_view_module": "@jupyter-widgets/controls",
            "_model_module_version": "1.5.0",
            "_view_count": null,
            "_view_module_version": "1.5.0",
            "box_style": "",
            "layout": "IPY_MODEL_048b5344d1f94581b549a774e27d5b54",
            "_model_module": "@jupyter-widgets/controls",
            "children": [
              "IPY_MODEL_c8cca219c1194d36bc93f0ce16664154",
              "IPY_MODEL_3dd0280309064c14970cd7186b7ba0d6"
            ]
          },
          "model_module_version": "1.5.0"
        },
        "048b5344d1f94581b549a774e27d5b54": {
          "model_module": "@jupyter-widgets/base",
          "model_name": "LayoutModel",
          "state": {
            "_view_name": "LayoutView",
            "grid_template_rows": null,
            "right": null,
            "justify_content": null,
            "_view_module": "@jupyter-widgets/base",
            "overflow": null,
            "_model_module_version": "1.2.0",
            "_view_count": null,
            "flex_flow": null,
            "width": null,
            "min_width": null,
            "border": null,
            "align_items": null,
            "bottom": null,
            "_model_module": "@jupyter-widgets/base",
            "top": null,
            "grid_column": null,
            "overflow_y": null,
            "overflow_x": null,
            "grid_auto_flow": null,
            "grid_area": null,
            "grid_template_columns": null,
            "flex": null,
            "_model_name": "LayoutModel",
            "justify_items": null,
            "grid_row": null,
            "max_height": null,
            "align_content": null,
            "visibility": null,
            "align_self": null,
            "height": null,
            "min_height": null,
            "padding": null,
            "grid_auto_rows": null,
            "grid_gap": null,
            "max_width": null,
            "order": null,
            "_view_module_version": "1.2.0",
            "grid_template_areas": null,
            "object_position": null,
            "object_fit": null,
            "grid_auto_columns": null,
            "margin": null,
            "display": null,
            "left": null
          },
          "model_module_version": "1.2.0"
        },
        "c8cca219c1194d36bc93f0ce16664154": {
          "model_module": "@jupyter-widgets/controls",
          "model_name": "FloatProgressModel",
          "state": {
            "_view_name": "ProgressView",
            "style": "IPY_MODEL_d370bf61eff04e778a1810ed74ce2d45",
            "_dom_classes": [],
            "description": "Dl Size...: ",
            "_model_name": "FloatProgressModel",
            "bar_style": "success",
            "max": 1,
            "_view_module": "@jupyter-widgets/controls",
            "_model_module_version": "1.5.0",
            "value": 0,
            "_view_count": null,
            "_view_module_version": "1.5.0",
            "orientation": "horizontal",
            "min": 0,
            "description_tooltip": null,
            "_model_module": "@jupyter-widgets/controls",
            "layout": "IPY_MODEL_76b9fe27088a42eeb6c861aa61b4218c"
          },
          "model_module_version": "1.5.0"
        },
        "3dd0280309064c14970cd7186b7ba0d6": {
          "model_module": "@jupyter-widgets/controls",
          "model_name": "HTMLModel",
          "state": {
            "_view_name": "HTMLView",
            "style": "IPY_MODEL_cb907be1778148688a8b3d344378259e",
            "_dom_classes": [],
            "description": "",
            "_model_name": "HTMLModel",
            "placeholder": "​",
            "_view_module": "@jupyter-widgets/controls",
            "_model_module_version": "1.5.0",
            "value": " 0/0 [00:00&lt;?, ? MiB/s]",
            "_view_count": null,
            "_view_module_version": "1.5.0",
            "description_tooltip": null,
            "_model_module": "@jupyter-widgets/controls",
            "layout": "IPY_MODEL_be1e18a683bf474b83414922115b8cb3"
          },
          "model_module_version": "1.5.0"
        },
        "d370bf61eff04e778a1810ed74ce2d45": {
          "model_module": "@jupyter-widgets/controls",
          "model_name": "ProgressStyleModel",
          "state": {
            "_view_name": "StyleView",
            "_model_name": "ProgressStyleModel",
            "description_width": "initial",
            "_view_module": "@jupyter-widgets/base",
            "_model_module_version": "1.5.0",
            "_view_count": null,
            "_view_module_version": "1.2.0",
            "bar_color": null,
            "_model_module": "@jupyter-widgets/controls"
          },
          "model_module_version": "1.5.0"
        },
        "76b9fe27088a42eeb6c861aa61b4218c": {
          "model_module": "@jupyter-widgets/base",
          "model_name": "LayoutModel",
          "state": {
            "_view_name": "LayoutView",
            "grid_template_rows": null,
            "right": null,
            "justify_content": null,
            "_view_module": "@jupyter-widgets/base",
            "overflow": null,
            "_model_module_version": "1.2.0",
            "_view_count": null,
            "flex_flow": null,
            "width": null,
            "min_width": null,
            "border": null,
            "align_items": null,
            "bottom": null,
            "_model_module": "@jupyter-widgets/base",
            "top": null,
            "grid_column": null,
            "overflow_y": null,
            "overflow_x": null,
            "grid_auto_flow": null,
            "grid_area": null,
            "grid_template_columns": null,
            "flex": null,
            "_model_name": "LayoutModel",
            "justify_items": null,
            "grid_row": null,
            "max_height": null,
            "align_content": null,
            "visibility": null,
            "align_self": null,
            "height": null,
            "min_height": null,
            "padding": null,
            "grid_auto_rows": null,
            "grid_gap": null,
            "max_width": null,
            "order": null,
            "_view_module_version": "1.2.0",
            "grid_template_areas": null,
            "object_position": null,
            "object_fit": null,
            "grid_auto_columns": null,
            "margin": null,
            "display": null,
            "left": null
          },
          "model_module_version": "1.2.0"
        },
        "cb907be1778148688a8b3d344378259e": {
          "model_module": "@jupyter-widgets/controls",
          "model_name": "DescriptionStyleModel",
          "state": {
            "_view_name": "StyleView",
            "_model_name": "DescriptionStyleModel",
            "description_width": "",
            "_view_module": "@jupyter-widgets/base",
            "_model_module_version": "1.5.0",
            "_view_count": null,
            "_view_module_version": "1.2.0",
            "_model_module": "@jupyter-widgets/controls"
          },
          "model_module_version": "1.5.0"
        },
        "be1e18a683bf474b83414922115b8cb3": {
          "model_module": "@jupyter-widgets/base",
          "model_name": "LayoutModel",
          "state": {
            "_view_name": "LayoutView",
            "grid_template_rows": null,
            "right": null,
            "justify_content": null,
            "_view_module": "@jupyter-widgets/base",
            "overflow": null,
            "_model_module_version": "1.2.0",
            "_view_count": null,
            "flex_flow": null,
            "width": null,
            "min_width": null,
            "border": null,
            "align_items": null,
            "bottom": null,
            "_model_module": "@jupyter-widgets/base",
            "top": null,
            "grid_column": null,
            "overflow_y": null,
            "overflow_x": null,
            "grid_auto_flow": null,
            "grid_area": null,
            "grid_template_columns": null,
            "flex": null,
            "_model_name": "LayoutModel",
            "justify_items": null,
            "grid_row": null,
            "max_height": null,
            "align_content": null,
            "visibility": null,
            "align_self": null,
            "height": null,
            "min_height": null,
            "padding": null,
            "grid_auto_rows": null,
            "grid_gap": null,
            "max_width": null,
            "order": null,
            "_view_module_version": "1.2.0",
            "grid_template_areas": null,
            "object_position": null,
            "object_fit": null,
            "grid_auto_columns": null,
            "margin": null,
            "display": null,
            "left": null
          },
          "model_module_version": "1.2.0"
        },
        "017c5f33da3a497097df21de70bfd873": {
          "model_module": "@jupyter-widgets/controls",
          "model_name": "HBoxModel",
          "state": {
            "_view_name": "HBoxView",
            "_dom_classes": [],
            "_model_name": "HBoxModel",
            "_view_module": "@jupyter-widgets/controls",
            "_model_module_version": "1.5.0",
            "_view_count": null,
            "_view_module_version": "1.5.0",
            "box_style": "",
            "layout": "IPY_MODEL_0bbb513d33884d6ab920498cf07a74a1",
            "_model_module": "@jupyter-widgets/controls",
            "children": [
              "IPY_MODEL_f5994d027b694fd68d9534f4685b8448",
              "IPY_MODEL_e42f9d4198c549da9a0c3abdffc30cd7"
            ]
          },
          "model_module_version": "1.5.0"
        },
        "0bbb513d33884d6ab920498cf07a74a1": {
          "model_module": "@jupyter-widgets/base",
          "model_name": "LayoutModel",
          "state": {
            "_view_name": "LayoutView",
            "grid_template_rows": null,
            "right": null,
            "justify_content": null,
            "_view_module": "@jupyter-widgets/base",
            "overflow": null,
            "_model_module_version": "1.2.0",
            "_view_count": null,
            "flex_flow": null,
            "width": null,
            "min_width": null,
            "border": null,
            "align_items": null,
            "bottom": null,
            "_model_module": "@jupyter-widgets/base",
            "top": null,
            "grid_column": null,
            "overflow_y": null,
            "overflow_x": null,
            "grid_auto_flow": null,
            "grid_area": null,
            "grid_template_columns": null,
            "flex": null,
            "_model_name": "LayoutModel",
            "justify_items": null,
            "grid_row": null,
            "max_height": null,
            "align_content": null,
            "visibility": null,
            "align_self": null,
            "height": null,
            "min_height": null,
            "padding": null,
            "grid_auto_rows": null,
            "grid_gap": null,
            "max_width": null,
            "order": null,
            "_view_module_version": "1.2.0",
            "grid_template_areas": null,
            "object_position": null,
            "object_fit": null,
            "grid_auto_columns": null,
            "margin": null,
            "display": null,
            "left": null
          },
          "model_module_version": "1.2.0"
        },
        "f5994d027b694fd68d9534f4685b8448": {
          "model_module": "@jupyter-widgets/controls",
          "model_name": "FloatProgressModel",
          "state": {
            "_view_name": "ProgressView",
            "style": "IPY_MODEL_cae09be9a5f346a2bb7663396474f7ab",
            "_dom_classes": [],
            "description": "Extraction completed...: ",
            "_model_name": "FloatProgressModel",
            "bar_style": "success",
            "max": 1,
            "_view_module": "@jupyter-widgets/controls",
            "_model_module_version": "1.5.0",
            "value": 0,
            "_view_count": null,
            "_view_module_version": "1.5.0",
            "orientation": "horizontal",
            "min": 0,
            "description_tooltip": null,
            "_model_module": "@jupyter-widgets/controls",
            "layout": "IPY_MODEL_3ce95d4466bc43019bb09538fe551f2d"
          },
          "model_module_version": "1.5.0"
        },
        "e42f9d4198c549da9a0c3abdffc30cd7": {
          "model_module": "@jupyter-widgets/controls",
          "model_name": "HTMLModel",
          "state": {
            "_view_name": "HTMLView",
            "style": "IPY_MODEL_7122e14af06b4b0e9c9091cf3d325122",
            "_dom_classes": [],
            "description": "",
            "_model_name": "HTMLModel",
            "placeholder": "​",
            "_view_module": "@jupyter-widgets/controls",
            "_model_module_version": "1.5.0",
            "value": " 0/0 [00:00&lt;?, ? file/s]",
            "_view_count": null,
            "_view_module_version": "1.5.0",
            "description_tooltip": null,
            "_model_module": "@jupyter-widgets/controls",
            "layout": "IPY_MODEL_e1fa286fbc844c6e821b1aa2479a5c61"
          },
          "model_module_version": "1.5.0"
        },
        "cae09be9a5f346a2bb7663396474f7ab": {
          "model_module": "@jupyter-widgets/controls",
          "model_name": "ProgressStyleModel",
          "state": {
            "_view_name": "StyleView",
            "_model_name": "ProgressStyleModel",
            "description_width": "initial",
            "_view_module": "@jupyter-widgets/base",
            "_model_module_version": "1.5.0",
            "_view_count": null,
            "_view_module_version": "1.2.0",
            "bar_color": null,
            "_model_module": "@jupyter-widgets/controls"
          },
          "model_module_version": "1.5.0"
        },
        "3ce95d4466bc43019bb09538fe551f2d": {
          "model_module": "@jupyter-widgets/base",
          "model_name": "LayoutModel",
          "state": {
            "_view_name": "LayoutView",
            "grid_template_rows": null,
            "right": null,
            "justify_content": null,
            "_view_module": "@jupyter-widgets/base",
            "overflow": null,
            "_model_module_version": "1.2.0",
            "_view_count": null,
            "flex_flow": null,
            "width": null,
            "min_width": null,
            "border": null,
            "align_items": null,
            "bottom": null,
            "_model_module": "@jupyter-widgets/base",
            "top": null,
            "grid_column": null,
            "overflow_y": null,
            "overflow_x": null,
            "grid_auto_flow": null,
            "grid_area": null,
            "grid_template_columns": null,
            "flex": null,
            "_model_name": "LayoutModel",
            "justify_items": null,
            "grid_row": null,
            "max_height": null,
            "align_content": null,
            "visibility": null,
            "align_self": null,
            "height": null,
            "min_height": null,
            "padding": null,
            "grid_auto_rows": null,
            "grid_gap": null,
            "max_width": null,
            "order": null,
            "_view_module_version": "1.2.0",
            "grid_template_areas": null,
            "object_position": null,
            "object_fit": null,
            "grid_auto_columns": null,
            "margin": null,
            "display": null,
            "left": null
          },
          "model_module_version": "1.2.0"
        },
        "7122e14af06b4b0e9c9091cf3d325122": {
          "model_module": "@jupyter-widgets/controls",
          "model_name": "DescriptionStyleModel",
          "state": {
            "_view_name": "StyleView",
            "_model_name": "DescriptionStyleModel",
            "description_width": "",
            "_view_module": "@jupyter-widgets/base",
            "_model_module_version": "1.5.0",
            "_view_count": null,
            "_view_module_version": "1.2.0",
            "_model_module": "@jupyter-widgets/controls"
          },
          "model_module_version": "1.5.0"
        },
        "e1fa286fbc844c6e821b1aa2479a5c61": {
          "model_module": "@jupyter-widgets/base",
          "model_name": "LayoutModel",
          "state": {
            "_view_name": "LayoutView",
            "grid_template_rows": null,
            "right": null,
            "justify_content": null,
            "_view_module": "@jupyter-widgets/base",
            "overflow": null,
            "_model_module_version": "1.2.0",
            "_view_count": null,
            "flex_flow": null,
            "width": null,
            "min_width": null,
            "border": null,
            "align_items": null,
            "bottom": null,
            "_model_module": "@jupyter-widgets/base",
            "top": null,
            "grid_column": null,
            "overflow_y": null,
            "overflow_x": null,
            "grid_auto_flow": null,
            "grid_area": null,
            "grid_template_columns": null,
            "flex": null,
            "_model_name": "LayoutModel",
            "justify_items": null,
            "grid_row": null,
            "max_height": null,
            "align_content": null,
            "visibility": null,
            "align_self": null,
            "height": null,
            "min_height": null,
            "padding": null,
            "grid_auto_rows": null,
            "grid_gap": null,
            "max_width": null,
            "order": null,
            "_view_module_version": "1.2.0",
            "grid_template_areas": null,
            "object_position": null,
            "object_fit": null,
            "grid_auto_columns": null,
            "margin": null,
            "display": null,
            "left": null
          },
          "model_module_version": "1.2.0"
        },
        "1d1e79c03bb145738ef6fee464a5274e": {
          "model_module": "@jupyter-widgets/controls",
          "model_name": "HBoxModel",
          "state": {
            "_view_name": "HBoxView",
            "_dom_classes": [],
            "_model_name": "HBoxModel",
            "_view_module": "@jupyter-widgets/controls",
            "_model_module_version": "1.5.0",
            "_view_count": null,
            "_view_module_version": "1.5.0",
            "box_style": "",
            "layout": "IPY_MODEL_cea1babe04e34a929978ae0ee86d07da",
            "_model_module": "@jupyter-widgets/controls",
            "children": [
              "IPY_MODEL_e6964e7aaa8f42e293e41ca62f8bb1d3",
              "IPY_MODEL_c4a5eb5a8e654be4b269af08a31add41"
            ]
          },
          "model_module_version": "1.5.0"
        },
        "cea1babe04e34a929978ae0ee86d07da": {
          "model_module": "@jupyter-widgets/base",
          "model_name": "LayoutModel",
          "state": {
            "_view_name": "LayoutView",
            "grid_template_rows": null,
            "right": null,
            "justify_content": null,
            "_view_module": "@jupyter-widgets/base",
            "overflow": null,
            "_model_module_version": "1.2.0",
            "_view_count": null,
            "flex_flow": null,
            "width": null,
            "min_width": null,
            "border": null,
            "align_items": null,
            "bottom": null,
            "_model_module": "@jupyter-widgets/base",
            "top": null,
            "grid_column": null,
            "overflow_y": null,
            "overflow_x": null,
            "grid_auto_flow": null,
            "grid_area": null,
            "grid_template_columns": null,
            "flex": null,
            "_model_name": "LayoutModel",
            "justify_items": null,
            "grid_row": null,
            "max_height": null,
            "align_content": null,
            "visibility": null,
            "align_self": null,
            "height": null,
            "min_height": null,
            "padding": null,
            "grid_auto_rows": null,
            "grid_gap": null,
            "max_width": null,
            "order": null,
            "_view_module_version": "1.2.0",
            "grid_template_areas": null,
            "object_position": null,
            "object_fit": null,
            "grid_auto_columns": null,
            "margin": null,
            "display": null,
            "left": null
          },
          "model_module_version": "1.2.0"
        },
        "e6964e7aaa8f42e293e41ca62f8bb1d3": {
          "model_module": "@jupyter-widgets/controls",
          "model_name": "FloatProgressModel",
          "state": {
            "_view_name": "ProgressView",
            "style": "IPY_MODEL_b8425150aca94b619551ee8fe8349738",
            "_dom_classes": [],
            "description": "Generating splits...: 100%",
            "_model_name": "FloatProgressModel",
            "bar_style": "",
            "max": 1,
            "_view_module": "@jupyter-widgets/controls",
            "_model_module_version": "1.5.0",
            "value": 1,
            "_view_count": null,
            "_view_module_version": "1.5.0",
            "orientation": "horizontal",
            "min": 0,
            "description_tooltip": null,
            "_model_module": "@jupyter-widgets/controls",
            "layout": "IPY_MODEL_1b30b087eda94047a350ee51248512d5"
          },
          "model_module_version": "1.5.0"
        },
        "c4a5eb5a8e654be4b269af08a31add41": {
          "model_module": "@jupyter-widgets/controls",
          "model_name": "HTMLModel",
          "state": {
            "_view_name": "HTMLView",
            "style": "IPY_MODEL_df215de96d744afca92ae23c3ef16263",
            "_dom_classes": [],
            "description": "",
            "_model_name": "HTMLModel",
            "placeholder": "​",
            "_view_module": "@jupyter-widgets/controls",
            "_model_module_version": "1.5.0",
            "value": " 1/1 [00:00&lt;00:00,  1.15 splits/s]",
            "_view_count": null,
            "_view_module_version": "1.5.0",
            "description_tooltip": null,
            "_model_module": "@jupyter-widgets/controls",
            "layout": "IPY_MODEL_8ab2b2f1658b4a728bbb31b0817a2973"
          },
          "model_module_version": "1.5.0"
        },
        "b8425150aca94b619551ee8fe8349738": {
          "model_module": "@jupyter-widgets/controls",
          "model_name": "ProgressStyleModel",
          "state": {
            "_view_name": "StyleView",
            "_model_name": "ProgressStyleModel",
            "description_width": "initial",
            "_view_module": "@jupyter-widgets/base",
            "_model_module_version": "1.5.0",
            "_view_count": null,
            "_view_module_version": "1.2.0",
            "bar_color": null,
            "_model_module": "@jupyter-widgets/controls"
          },
          "model_module_version": "1.5.0"
        },
        "1b30b087eda94047a350ee51248512d5": {
          "model_module": "@jupyter-widgets/base",
          "model_name": "LayoutModel",
          "state": {
            "_view_name": "LayoutView",
            "grid_template_rows": null,
            "right": null,
            "justify_content": null,
            "_view_module": "@jupyter-widgets/base",
            "overflow": null,
            "_model_module_version": "1.2.0",
            "_view_count": null,
            "flex_flow": null,
            "width": null,
            "min_width": null,
            "border": null,
            "align_items": null,
            "bottom": null,
            "_model_module": "@jupyter-widgets/base",
            "top": null,
            "grid_column": null,
            "overflow_y": null,
            "overflow_x": null,
            "grid_auto_flow": null,
            "grid_area": null,
            "grid_template_columns": null,
            "flex": null,
            "_model_name": "LayoutModel",
            "justify_items": null,
            "grid_row": null,
            "max_height": null,
            "align_content": null,
            "visibility": null,
            "align_self": null,
            "height": null,
            "min_height": null,
            "padding": null,
            "grid_auto_rows": null,
            "grid_gap": null,
            "max_width": null,
            "order": null,
            "_view_module_version": "1.2.0",
            "grid_template_areas": null,
            "object_position": null,
            "object_fit": null,
            "grid_auto_columns": null,
            "margin": null,
            "display": null,
            "left": null
          },
          "model_module_version": "1.2.0"
        },
        "df215de96d744afca92ae23c3ef16263": {
          "model_module": "@jupyter-widgets/controls",
          "model_name": "DescriptionStyleModel",
          "state": {
            "_view_name": "StyleView",
            "_model_name": "DescriptionStyleModel",
            "description_width": "",
            "_view_module": "@jupyter-widgets/base",
            "_model_module_version": "1.5.0",
            "_view_count": null,
            "_view_module_version": "1.2.0",
            "_model_module": "@jupyter-widgets/controls"
          },
          "model_module_version": "1.5.0"
        },
        "8ab2b2f1658b4a728bbb31b0817a2973": {
          "model_module": "@jupyter-widgets/base",
          "model_name": "LayoutModel",
          "state": {
            "_view_name": "LayoutView",
            "grid_template_rows": null,
            "right": null,
            "justify_content": null,
            "_view_module": "@jupyter-widgets/base",
            "overflow": null,
            "_model_module_version": "1.2.0",
            "_view_count": null,
            "flex_flow": null,
            "width": null,
            "min_width": null,
            "border": null,
            "align_items": null,
            "bottom": null,
            "_model_module": "@jupyter-widgets/base",
            "top": null,
            "grid_column": null,
            "overflow_y": null,
            "overflow_x": null,
            "grid_auto_flow": null,
            "grid_area": null,
            "grid_template_columns": null,
            "flex": null,
            "_model_name": "LayoutModel",
            "justify_items": null,
            "grid_row": null,
            "max_height": null,
            "align_content": null,
            "visibility": null,
            "align_self": null,
            "height": null,
            "min_height": null,
            "padding": null,
            "grid_auto_rows": null,
            "grid_gap": null,
            "max_width": null,
            "order": null,
            "_view_module_version": "1.2.0",
            "grid_template_areas": null,
            "object_position": null,
            "object_fit": null,
            "grid_auto_columns": null,
            "margin": null,
            "display": null,
            "left": null
          },
          "model_module_version": "1.2.0"
        },
        "380f4d4102b34e60abfed1eb9bdbadd2": {
          "model_module": "@jupyter-widgets/controls",
          "model_name": "HBoxModel",
          "state": {
            "_view_name": "HBoxView",
            "_dom_classes": [],
            "_model_name": "HBoxModel",
            "_view_module": "@jupyter-widgets/controls",
            "_model_module_version": "1.5.0",
            "_view_count": null,
            "_view_module_version": "1.5.0",
            "box_style": "",
            "layout": "IPY_MODEL_00f1ec84c2c54d36b5a69eb76f546613",
            "_model_module": "@jupyter-widgets/controls",
            "children": [
              "IPY_MODEL_bd1f4889292c471992e68a83ab764858",
              "IPY_MODEL_d883f0e109ff46f9a449a411a1404025"
            ]
          },
          "model_module_version": "1.5.0"
        },
        "00f1ec84c2c54d36b5a69eb76f546613": {
          "model_module": "@jupyter-widgets/base",
          "model_name": "LayoutModel",
          "state": {
            "_view_name": "LayoutView",
            "grid_template_rows": null,
            "right": null,
            "justify_content": null,
            "_view_module": "@jupyter-widgets/base",
            "overflow": null,
            "_model_module_version": "1.2.0",
            "_view_count": null,
            "flex_flow": null,
            "width": null,
            "min_width": null,
            "border": null,
            "align_items": null,
            "bottom": null,
            "_model_module": "@jupyter-widgets/base",
            "top": null,
            "grid_column": null,
            "overflow_y": null,
            "overflow_x": null,
            "grid_auto_flow": null,
            "grid_area": null,
            "grid_template_columns": null,
            "flex": null,
            "_model_name": "LayoutModel",
            "justify_items": null,
            "grid_row": null,
            "max_height": null,
            "align_content": null,
            "visibility": null,
            "align_self": null,
            "height": null,
            "min_height": null,
            "padding": null,
            "grid_auto_rows": null,
            "grid_gap": null,
            "max_width": null,
            "order": null,
            "_view_module_version": "1.2.0",
            "grid_template_areas": null,
            "object_position": null,
            "object_fit": null,
            "grid_auto_columns": null,
            "margin": null,
            "display": null,
            "left": null
          },
          "model_module_version": "1.2.0"
        },
        "bd1f4889292c471992e68a83ab764858": {
          "model_module": "@jupyter-widgets/controls",
          "model_name": "FloatProgressModel",
          "state": {
            "_view_name": "ProgressView",
            "style": "IPY_MODEL_9d5e2fb4988e46fea9cd924e82e13d5d",
            "_dom_classes": [],
            "description": "Generating train examples...: 100%",
            "_model_name": "FloatProgressModel",
            "bar_style": "",
            "max": 1682,
            "_view_module": "@jupyter-widgets/controls",
            "_model_module_version": "1.5.0",
            "value": 1682,
            "_view_count": null,
            "_view_module_version": "1.5.0",
            "orientation": "horizontal",
            "min": 0,
            "description_tooltip": null,
            "_model_module": "@jupyter-widgets/controls",
            "layout": "IPY_MODEL_a7318131bcd347c7a3c28fe94bcce41b"
          },
          "model_module_version": "1.5.0"
        },
        "d883f0e109ff46f9a449a411a1404025": {
          "model_module": "@jupyter-widgets/controls",
          "model_name": "HTMLModel",
          "state": {
            "_view_name": "HTMLView",
            "style": "IPY_MODEL_c0ad928e95664faea5f00efb245e75ec",
            "_dom_classes": [],
            "description": "",
            "_model_name": "HTMLModel",
            "placeholder": "​",
            "_view_module": "@jupyter-widgets/controls",
            "_model_module_version": "1.5.0",
            "value": " 1682/1682 [00:00&lt;00:00, 1950.46 examples/s]",
            "_view_count": null,
            "_view_module_version": "1.5.0",
            "description_tooltip": null,
            "_model_module": "@jupyter-widgets/controls",
            "layout": "IPY_MODEL_7fafd911808f4381b88aa2956beb3d1c"
          },
          "model_module_version": "1.5.0"
        },
        "9d5e2fb4988e46fea9cd924e82e13d5d": {
          "model_module": "@jupyter-widgets/controls",
          "model_name": "ProgressStyleModel",
          "state": {
            "_view_name": "StyleView",
            "_model_name": "ProgressStyleModel",
            "description_width": "initial",
            "_view_module": "@jupyter-widgets/base",
            "_model_module_version": "1.5.0",
            "_view_count": null,
            "_view_module_version": "1.2.0",
            "bar_color": null,
            "_model_module": "@jupyter-widgets/controls"
          },
          "model_module_version": "1.5.0"
        },
        "a7318131bcd347c7a3c28fe94bcce41b": {
          "model_module": "@jupyter-widgets/base",
          "model_name": "LayoutModel",
          "state": {
            "_view_name": "LayoutView",
            "grid_template_rows": null,
            "right": null,
            "justify_content": null,
            "_view_module": "@jupyter-widgets/base",
            "overflow": null,
            "_model_module_version": "1.2.0",
            "_view_count": null,
            "flex_flow": null,
            "width": null,
            "min_width": null,
            "border": null,
            "align_items": null,
            "bottom": null,
            "_model_module": "@jupyter-widgets/base",
            "top": null,
            "grid_column": null,
            "overflow_y": null,
            "overflow_x": null,
            "grid_auto_flow": null,
            "grid_area": null,
            "grid_template_columns": null,
            "flex": null,
            "_model_name": "LayoutModel",
            "justify_items": null,
            "grid_row": null,
            "max_height": null,
            "align_content": null,
            "visibility": null,
            "align_self": null,
            "height": null,
            "min_height": null,
            "padding": null,
            "grid_auto_rows": null,
            "grid_gap": null,
            "max_width": null,
            "order": null,
            "_view_module_version": "1.2.0",
            "grid_template_areas": null,
            "object_position": null,
            "object_fit": null,
            "grid_auto_columns": null,
            "margin": null,
            "display": null,
            "left": null
          },
          "model_module_version": "1.2.0"
        },
        "c0ad928e95664faea5f00efb245e75ec": {
          "model_module": "@jupyter-widgets/controls",
          "model_name": "DescriptionStyleModel",
          "state": {
            "_view_name": "StyleView",
            "_model_name": "DescriptionStyleModel",
            "description_width": "",
            "_view_module": "@jupyter-widgets/base",
            "_model_module_version": "1.5.0",
            "_view_count": null,
            "_view_module_version": "1.2.0",
            "_model_module": "@jupyter-widgets/controls"
          },
          "model_module_version": "1.5.0"
        },
        "7fafd911808f4381b88aa2956beb3d1c": {
          "model_module": "@jupyter-widgets/base",
          "model_name": "LayoutModel",
          "state": {
            "_view_name": "LayoutView",
            "grid_template_rows": null,
            "right": null,
            "justify_content": null,
            "_view_module": "@jupyter-widgets/base",
            "overflow": null,
            "_model_module_version": "1.2.0",
            "_view_count": null,
            "flex_flow": null,
            "width": null,
            "min_width": null,
            "border": null,
            "align_items": null,
            "bottom": null,
            "_model_module": "@jupyter-widgets/base",
            "top": null,
            "grid_column": null,
            "overflow_y": null,
            "overflow_x": null,
            "grid_auto_flow": null,
            "grid_area": null,
            "grid_template_columns": null,
            "flex": null,
            "_model_name": "LayoutModel",
            "justify_items": null,
            "grid_row": null,
            "max_height": null,
            "align_content": null,
            "visibility": null,
            "align_self": null,
            "height": null,
            "min_height": null,
            "padding": null,
            "grid_auto_rows": null,
            "grid_gap": null,
            "max_width": null,
            "order": null,
            "_view_module_version": "1.2.0",
            "grid_template_areas": null,
            "object_position": null,
            "object_fit": null,
            "grid_auto_columns": null,
            "margin": null,
            "display": null,
            "left": null
          },
          "model_module_version": "1.2.0"
        },
        "a31a11356ec04a97b6cc7957985fce93": {
          "model_module": "@jupyter-widgets/controls",
          "model_name": "HBoxModel",
          "state": {
            "_view_name": "HBoxView",
            "_dom_classes": [],
            "_model_name": "HBoxModel",
            "_view_module": "@jupyter-widgets/controls",
            "_model_module_version": "1.5.0",
            "_view_count": null,
            "_view_module_version": "1.5.0",
            "box_style": "",
            "layout": "IPY_MODEL_8ca8e193f3604436a2b76b062a1b2bfa",
            "_model_module": "@jupyter-widgets/controls",
            "children": [
              "IPY_MODEL_5641187ab3124a2c97613794ff3a2140",
              "IPY_MODEL_87c44927b6fd4fa188a3f2bba1968d26"
            ]
          },
          "model_module_version": "1.5.0"
        },
        "8ca8e193f3604436a2b76b062a1b2bfa": {
          "model_module": "@jupyter-widgets/base",
          "model_name": "LayoutModel",
          "state": {
            "_view_name": "LayoutView",
            "grid_template_rows": null,
            "right": null,
            "justify_content": null,
            "_view_module": "@jupyter-widgets/base",
            "overflow": null,
            "_model_module_version": "1.2.0",
            "_view_count": null,
            "flex_flow": null,
            "width": null,
            "min_width": null,
            "border": null,
            "align_items": null,
            "bottom": null,
            "_model_module": "@jupyter-widgets/base",
            "top": null,
            "grid_column": null,
            "overflow_y": null,
            "overflow_x": null,
            "grid_auto_flow": null,
            "grid_area": null,
            "grid_template_columns": null,
            "flex": null,
            "_model_name": "LayoutModel",
            "justify_items": null,
            "grid_row": null,
            "max_height": null,
            "align_content": null,
            "visibility": null,
            "align_self": null,
            "height": null,
            "min_height": null,
            "padding": null,
            "grid_auto_rows": null,
            "grid_gap": null,
            "max_width": null,
            "order": null,
            "_view_module_version": "1.2.0",
            "grid_template_areas": null,
            "object_position": null,
            "object_fit": null,
            "grid_auto_columns": null,
            "margin": null,
            "display": null,
            "left": null
          },
          "model_module_version": "1.2.0"
        },
        "5641187ab3124a2c97613794ff3a2140": {
          "model_module": "@jupyter-widgets/controls",
          "model_name": "FloatProgressModel",
          "state": {
            "_view_name": "ProgressView",
            "style": "IPY_MODEL_bc2f6fcc89734b43a83c72226f5d6bc0",
            "_dom_classes": [],
            "description": "Shuffling movielens-train.tfrecord...: 100%",
            "_model_name": "FloatProgressModel",
            "bar_style": "",
            "max": 1682,
            "_view_module": "@jupyter-widgets/controls",
            "_model_module_version": "1.5.0",
            "value": 1682,
            "_view_count": null,
            "_view_module_version": "1.5.0",
            "orientation": "horizontal",
            "min": 0,
            "description_tooltip": null,
            "_model_module": "@jupyter-widgets/controls",
            "layout": "IPY_MODEL_f51b4a5b99e040fd9f9681c5f2451c74"
          },
          "model_module_version": "1.5.0"
        },
        "87c44927b6fd4fa188a3f2bba1968d26": {
          "model_module": "@jupyter-widgets/controls",
          "model_name": "HTMLModel",
          "state": {
            "_view_name": "HTMLView",
            "style": "IPY_MODEL_dc80ecc2d8974e0bb23120bff7d0e215",
            "_dom_classes": [],
            "description": "",
            "_model_name": "HTMLModel",
            "placeholder": "​",
            "_view_module": "@jupyter-widgets/controls",
            "_model_module_version": "1.5.0",
            "value": " 1682/1682 [00:00&lt;00:00, 50934.75 examples/s]",
            "_view_count": null,
            "_view_module_version": "1.5.0",
            "description_tooltip": null,
            "_model_module": "@jupyter-widgets/controls",
            "layout": "IPY_MODEL_0ee218a7eed5400cb5b79a338effae5d"
          },
          "model_module_version": "1.5.0"
        },
        "bc2f6fcc89734b43a83c72226f5d6bc0": {
          "model_module": "@jupyter-widgets/controls",
          "model_name": "ProgressStyleModel",
          "state": {
            "_view_name": "StyleView",
            "_model_name": "ProgressStyleModel",
            "description_width": "initial",
            "_view_module": "@jupyter-widgets/base",
            "_model_module_version": "1.5.0",
            "_view_count": null,
            "_view_module_version": "1.2.0",
            "bar_color": null,
            "_model_module": "@jupyter-widgets/controls"
          },
          "model_module_version": "1.5.0"
        },
        "f51b4a5b99e040fd9f9681c5f2451c74": {
          "model_module": "@jupyter-widgets/base",
          "model_name": "LayoutModel",
          "state": {
            "_view_name": "LayoutView",
            "grid_template_rows": null,
            "right": null,
            "justify_content": null,
            "_view_module": "@jupyter-widgets/base",
            "overflow": null,
            "_model_module_version": "1.2.0",
            "_view_count": null,
            "flex_flow": null,
            "width": null,
            "min_width": null,
            "border": null,
            "align_items": null,
            "bottom": null,
            "_model_module": "@jupyter-widgets/base",
            "top": null,
            "grid_column": null,
            "overflow_y": null,
            "overflow_x": null,
            "grid_auto_flow": null,
            "grid_area": null,
            "grid_template_columns": null,
            "flex": null,
            "_model_name": "LayoutModel",
            "justify_items": null,
            "grid_row": null,
            "max_height": null,
            "align_content": null,
            "visibility": null,
            "align_self": null,
            "height": null,
            "min_height": null,
            "padding": null,
            "grid_auto_rows": null,
            "grid_gap": null,
            "max_width": null,
            "order": null,
            "_view_module_version": "1.2.0",
            "grid_template_areas": null,
            "object_position": null,
            "object_fit": null,
            "grid_auto_columns": null,
            "margin": null,
            "display": null,
            "left": null
          },
          "model_module_version": "1.2.0"
        },
        "dc80ecc2d8974e0bb23120bff7d0e215": {
          "model_module": "@jupyter-widgets/controls",
          "model_name": "DescriptionStyleModel",
          "state": {
            "_view_name": "StyleView",
            "_model_name": "DescriptionStyleModel",
            "description_width": "",
            "_view_module": "@jupyter-widgets/base",
            "_model_module_version": "1.5.0",
            "_view_count": null,
            "_view_module_version": "1.2.0",
            "_model_module": "@jupyter-widgets/controls"
          },
          "model_module_version": "1.5.0"
        },
        "0ee218a7eed5400cb5b79a338effae5d": {
          "model_module": "@jupyter-widgets/base",
          "model_name": "LayoutModel",
          "state": {
            "_view_name": "LayoutView",
            "grid_template_rows": null,
            "right": null,
            "justify_content": null,
            "_view_module": "@jupyter-widgets/base",
            "overflow": null,
            "_model_module_version": "1.2.0",
            "_view_count": null,
            "flex_flow": null,
            "width": null,
            "min_width": null,
            "border": null,
            "align_items": null,
            "bottom": null,
            "_model_module": "@jupyter-widgets/base",
            "top": null,
            "grid_column": null,
            "overflow_y": null,
            "overflow_x": null,
            "grid_auto_flow": null,
            "grid_area": null,
            "grid_template_columns": null,
            "flex": null,
            "_model_name": "LayoutModel",
            "justify_items": null,
            "grid_row": null,
            "max_height": null,
            "align_content": null,
            "visibility": null,
            "align_self": null,
            "height": null,
            "min_height": null,
            "padding": null,
            "grid_auto_rows": null,
            "grid_gap": null,
            "max_width": null,
            "order": null,
            "_view_module_version": "1.2.0",
            "grid_template_areas": null,
            "object_position": null,
            "object_fit": null,
            "grid_auto_columns": null,
            "margin": null,
            "display": null,
            "left": null
          },
          "model_module_version": "1.2.0"
        }
      }
    }
  },
  "cells": [
    {
      "cell_type": "markdown",
      "metadata": {
        "id": "view-in-github",
        "colab_type": "text"
      },
      "source": [
        "<a href=\"https://colab.research.google.com/github/xei/recommender-system-tutorial/blob/5-wrong-attempt-to-convert-a-value-with-an-unsupported-type-to-a-tensor/recommender_system_tutorial.ipynb\" target=\"_parent\"><img src=\"https://colab.research.google.com/assets/colab-badge.svg\" alt=\"Open In Colab\"/></a>"
      ]
    },
    {
      "cell_type": "markdown",
      "metadata": {
        "id": "l-8TmjXRTezi"
      },
      "source": [
        "# Build a recommendation system with TensorFlow and Keras\n",
        "\n",
        "\n",
        "\n",
        "<table class=\"tfo-notebook-buttons\" align=\"left\">\n",
        "  <td>\n",
        "    <a target=\"_blank\" href=\"https://colab.research.google.com/github/xei/recommender-system-tutorial/blob/main/recommender_system_tutorial.ipynb\"><img src=\"https://www.tensorflow.org/images/colab_logo_32px.png\" />Run in Google Colab</a>\n",
        "  </td>\n",
        "  <td>\n",
        "    <a target=\"_blank\" href=\"https://github.com/xei/recommender-system-tutorial/blob/main/recommender_system_tutorial.ipynb\"><img src=\"https://www.tensorflow.org/images/GitHub-Mark-32px.png\" />View source on GitHub</a>\n",
        "  </td>\n",
        "</table>\n",
        "\n",
        "<p>&nbsp;</p>\n",
        "<p>&nbsp;</p>\n",
        "\n",
        "Here, we are going to learn the fundamentals of information retrieval and recommendation systems and build a practical movie recommender service using [TensorFlow Recommenders](https://www.tensorflow.org/recommenders) and [Keras](https://keras.io/) and deploy it using [TensorFlow Serving](https://www.tensorflow.org/tfx/guide/serving).\n",
        "\n",
        "This step-by-step tutorial is recommended to both academia and industry enthusiasts."
      ]
    },
    {
      "cell_type": "markdown",
      "metadata": {
        "id": "JR7yjVX9UUxs"
      },
      "source": [
        "## Introduction\n",
        "\n",
        "### What is a recommendation system?!\n",
        "Online services usually provide thousands, millions or even billions of items like products, video clips, movies, musics, news, articles, blog posts, advertisements, etc. For example, the [Google Play Store](https://play.google.com/store) provides millions of apps and [YouTube](https://www.youtube.com/) provides billions of videos. [[1]](https://developers.google.com/machine-learning/recommendation/overview)\n",
        "\n",
        "However, users prefer to see a handful shortlist of likely items instead of struggling with the full corpora. They usually can search or filter the list to find the best handful items, but sometimes they even don't know what they really want (e.g. a birthday gift). In a physical store an expert seller would help in this case by useful recommendations. So, why not in an online store?!\n",
        "\n",
        "A recommedation system can retrieve, filter and recommend best personalized results for the user - results which the user is likely to buy. So it is one of the major requirements of modern businesses in order to increase their `conversion rate`. On September 21, 2009, Netflix gave a grand prize of $1,000,000 to a team which bested Netflix's own algorithm for predicting ratings by 10.06%. [[2]](https://web.archive.org/web/20090924184639/http://www.netflixprize.com/community/viewtopic.php?id=1537)\n",
        "\n",
        "<p align=\"center\">\n",
        "  <img width=\"634\" height=\"416\" src=\"https://raw.githubusercontent.com/xei/recommender-system-tutorial/main/assets/netflix_prize.jpeg\">\n",
        "</p>\n",
        "\n",
        "A recommendation system ia a system that gives a `query (context)` which is what we know about the liking list, and filter the corpus (full catalog of items) to a shortlist of `candidates` (items, documents). A query (context) can be a combination of ***user id***, ***user's geographical location***, ***user's history of previous purchases***, etc and the resulting candidates can be some new items that we guess are interesting for the user.\n",
        "\n",
        "The query can also be a combination of ***item id***, ***its image***, ***its textual description***, etc and the candidates can be some similar or related items from the corpus.\n",
        "<p>&nbsp;</p>\n",
        "<p align=\"center\">\n",
        "  <img width=\"556\" height=\"82\" src=\"https://raw.githubusercontent.com/xei/recommender-system-tutorial/main/assets/recsys_io.png\">\n",
        "</p>\n",
        "<p>&nbsp;</p>\n",
        "\n",
        "### Recommendation stages (tasks)\n",
        "In practice, dealing with a large corpus and filter it to a shortlist is an intractable and inefficient task. So practical recommender systems has two (or three) filterng phases:\n",
        "1. Retrieval (Candidate Generation)\n",
        "2. Ranking (Scoring)\n",
        "3. Re-ranking or optimazation or ...\n",
        "\n",
        "<p align=\"center\">\n",
        "  <img width=\"700\" height=\"394\" src=\"https://raw.githubusercontent.com/xei/recommender-system-tutorial/main/assets/retrieval_ranking.png\">\n",
        "</p>\n",
        "\n",
        "<p align=\"center\">\n",
        "  <img width=\"700\" height=\"394\" src=\"https://raw.githubusercontent.com/xei/recommender-system-tutorial/main/assets/deepmind_forgoogle_recsys.png\">\n",
        "</p>\n",
        "\n",
        "### Content-based Filtering vs Collaborative Filtering\n",
        "Filtering items is based on similarities. we can filter the list based on similar candidates (`content-based filtering`) or based on the similarity between queries and candidates (`collaborative filtering`). Collaborative filtering algorithms usually perform better than content-based methods.\n",
        "\n",
        "<p align=\"center\">\n",
        "  <img width=\"700\" height=\"330\" src=\"https://raw.githubusercontent.com/xei/recommender-system-tutorial/main/assets/cbf_cf.png\">\n",
        "</p>\n",
        "\n",
        "### Representation of a query or a candidate\n",
        "A query or a candidate has lots of different features. For example a query can be constructed by these features:\n",
        "- user_id\n",
        "- user_previous_history\n",
        "- user_job\n",
        "- etc.\n",
        "\n",
        "And a candidate can have features like:\n",
        "- item_description\n",
        "- item_image\n",
        "- item_price\n",
        "- posted_time\n",
        "- etc.\n",
        "\n",
        "These obviouse features can be `numerical variables`, `categorical variables`, `bitmaps` or `raw texts`. However, these low-level features are not enough for any prediction and we should extract some more abstract `latent features` from these obvious features to represent the query or the candidate as a numerical high-dimensional vector - known as `Embedding Vector`.\n",
        "\n",
        "`Matrix Factorization` (MF) is a classic collaborative filtering method to learn some `latent factors` (latent features) from `user_id`, `item_id` and `rating` features and represent **users** and **items** by latent (embedding) vectors.\n",
        "\n",
        "<p align=\"center\">\n",
        "  <img width=\"826\" height=\"398\" src=\"https://raw.githubusercontent.com/xei/recommender-system-tutorial/main/assets/mf.png\">\n",
        "</p>\n",
        "\n",
        "Matrix Factorization method only uses `user_id` and `candidate_id` features collaboratively to learn the `latent features`. In fact it doesn't care about other side-features like `candidate_description`, `price`, `user_comment`, etc.\n",
        "\n",
        "To involve side-features as well as ids while learning latent features (embeddings), we can use deep neural network (DNN) architectures like `softmax` or `two-tower` neural models.\n",
        "\n",
        "<p align=\"center\">\n",
        "  <img width=\"540\" height=\"340\" src=\"https://raw.githubusercontent.com/xei/recommender-system-tutorial/main/assets/tensorflow_two_tower.gif\">\n",
        "</p>\n",
        "\n",
        "YouTube two-tower neural model uses side-features to represent queries and candidates in an abstract high-dimentional embedding vector.\n",
        "\n",
        "<p align=\"center\">\n",
        "  <img width=\"540\" height=\"340\" src=\"https://raw.githubusercontent.com/xei/recommender-system-tutorial/main/assets/youtube_retrieval.png\">\n",
        "</p>\n",
        "\n",
        "### Movielens dataset\n",
        "\n",
        "The `Movielens` dataset is a benchmark dataset in the field of recommender system research containing a set of *ratings* given to *movies* by a set of *users*, collected from the [MovieLens website](http://movielens.org/) - a movie recommendation service.\n",
        "\n",
        "There are 5 different versions of Movielens available for different purposes: \"25m\", \"latest-small\", \"100k\", \"1m\" and \"20m\". In this tutorial we are going to work with \"100k\" version. For more information about different versions visit the [official website](https://grouplens.org/datasets/movielens/).\n",
        "\n",
        "**movielens/100k-ratings**\n",
        "\n",
        "The oldest version of the MovieLens dataset containing 100,000 ratings from 943 users on 1,682 movies. Each user has rated at least 20 movies. Ratings are in whole-star increments. This dataset contains demographic data of users in addition to data on movies and ratings.\n",
        "\n",
        "**movielens/100k-movies**\n",
        "\n",
        "This dataset contains data of 1,682 movies rated in the ***movielens/100k-ratings*** dataset."
      ]
    },
    {
      "cell_type": "markdown",
      "metadata": {
        "id": "NDrq_pdbB6Pd"
      },
      "source": [
        "## Make an input pipeline with TensorFlow Datasets\n",
        "TensorFlow Datasets ([TFDS library](https://www.tensorflow.org/datasets/overview)) provides a collection of ready-to-use datasets for use with TensorFlow, Jax, and other Machine Learning frameworks.\n",
        "\n",
        "It handles downloading and preparing the data deterministically and constructing a `tf.data.Dataset` (or `np.array`) in order to enabling easy-to-use and high-performance input pipelines."
      ]
    },
    {
      "cell_type": "code",
      "metadata": {
        "id": "Sciomsbda9NT",
        "colab": {
          "base_uri": "https://localhost:8080/"
        },
        "outputId": "073a70a6-d0fb-49f7-95ca-d89b89e42994"
      },
      "source": [
        "# Make sure the latest version of TFDS library is installed.\n",
        "# Older versions are not supported here.\n",
        "!pip install -q --upgrade tensorflow-datasets\n",
        " \n",
        "import tensorflow_datasets as tfds"
      ],
      "execution_count": null,
      "outputs": [
        {
          "output_type": "stream",
          "text": [
            "\u001b[K     |████████████████████████████████| 3.7MB 12.1MB/s \n",
            "\u001b[?25h"
          ],
          "name": "stdout"
        }
      ]
    },
    {
      "cell_type": "code",
      "metadata": {
        "id": "IWY6OFnhLQGx",
        "colab": {
          "base_uri": "https://localhost:8080/",
          "height": 581,
          "referenced_widgets": [
            "ea5b93232e074516a4080b0ad9a2cdab",
            "900f4ad555054a6ca77ed884a45fbf35",
            "0963310a6d084fdc8208f1b363a29211",
            "0580069a5c57483c9f6846a9aa6db291",
            "3b378b731e1f4b8e8fb9816ba81e8b74",
            "b236d50d19be4c76bae026d0da730bba",
            "9795286e7edf491aafd1e22d521d952f",
            "5977c1713b764e66871ced349d9da0b4",
            "9326e8a7c4294b179dade4caa38ed166",
            "d4555d4b75b843cb92fb2747a2dd42cd",
            "1a440a70159647a787d829c78b0a8e70",
            "6ae3e6fefc354de1a3a4b37543fa73d0",
            "7438901fa0824aa6a646f02e76f5b3cf",
            "8ed75df013804400bf92f02d1523346b",
            "31eb5e5c9d4145758a411156d54821b8",
            "b544800abecc4a27a3ead1140fff34cb",
            "acda6ebe40d14e0c900b0dfbe5ce5e4b",
            "2666e29dc6d24ad1aa099a75e823c416",
            "8ed01c6cb3ab4bdfa00d15cd6f259d37",
            "7017189a8391408aa20dd60715dc8706",
            "57cab894bd8b439a95cfb4504d5f7a4c",
            "1cf5f270aca64dae97420a160561e805",
            "3be2b83f46ab48af8130060a9e4c3a44",
            "d1650d1d8e394c98aeff889f716c5882",
            "c85db6d37ffa4aa999d4cc83c976b6f9",
            "19a07375053b41f992cdba81e8bf2a45",
            "c11f63b8515b4deeb5aa087137daf740",
            "28a2126547e54be387e39aa49fac5f06",
            "0286026a05c443659e30ffb06d7d173d",
            "94c48efe95eb46569bc2b202c5af4a04",
            "8a8275032aa748899183e1bd2462ad9a",
            "2f73b9cf76c7461d9501bfbb97b0d8ae",
            "58ed1e1811ff4457a32719fdf78acdab",
            "961d3dc212884b3ca94e50011ea51f9a",
            "5b497e43f2ca4d85968694cdb26b2abe",
            "e80f9f65078441f49124a6fa9f40a3c1",
            "9780af5babd34f4e8b76603c2f264b38",
            "8ef465ec4cc6476fb1e778d791b1be16",
            "861c39af868e424ba6b3bdf032691bf4",
            "c91f7c69a8764ae38d4e728fb38e1439",
            "a76bdd5541c94629a93544f9b6d3bae1",
            "301f2591588f41fb8b008258f2fe7456",
            "0754bec9f95442e59ce6eaf8186da0b2",
            "83401ea6578044a1b9d279170258a065",
            "cfc5f8517e974f46a1469465ed8be3c9",
            "07976623a03643888c66bdbf7b2cef01",
            "8f2cd32039cb4fd78b0ed7a48369014e",
            "0edcca2c747f44048d35c8ac27d745a2"
          ]
        },
        "outputId": "7298e407-5334-4e7a-a116-cf59941d3553"
      },
      "source": [
        "# Download the data, save them as `tfrecord` files, load the `tfrecord` files\n",
        "# and create the `tf.data.Dataset` object containing the dataset.\n",
        "ratings_dataset, ratings_dataset_info = tfds.load(\n",
        "    name='movielens/100k-ratings',\n",
        "    # MovieLens dataset is not splitted into `train` and `test` sets by default.\n",
        "    # So TFDS has put it all into `train` split. We load it completely and split\n",
        "    # it manually.\n",
        "    split='train',\n",
        "    # `with_info=True` makes the `load` function return a `tfds.core.DatasetInfo`\n",
        "    # object containing dataset metadata like version, description, homepage,\n",
        "    # citation, etc.\n",
        "    with_info=True\n",
        ")\n",
        "\n",
        "# Calling the `tfds.load()` function in old versions of TFDS won't return an\n",
        "# instance of `tf.data.Dataset` type. So we can make sure about it.\n",
        "import tensorflow as tf\n",
        "assert isinstance(ratings_dataset, tf.data.Dataset)\n",
        "\n",
        "print(\n",
        "    \"ratings_dataset size: %d\" % ratings_dataset.__len__()\n",
        ")\n",
        "\n",
        "# Use `tfds.as_dataframe()` to convert `tf.data.Dataset` to `pandas.DataFrame`.\n",
        "# Add the `tfds.core.DatasetInfo` as second argument of `tfds.as_dataframe` to\n",
        "# visualize images, audio, texts, videos, etc. `pandas.DataFrame` will load the\n",
        "# full dataset in-memory, and can be very expensive to display. So use it only\n",
        "# with take() function.\n",
        "print(\n",
        "    tfds.as_dataframe(ratings_dataset.take(5), ratings_dataset_info)\n",
        ")\n",
        "\n",
        "## Feature selection\n",
        "ratings_dataset = ratings_dataset.map(\n",
        "    lambda rating: {\n",
        "        # `user_id` is useful as a user identifier.\n",
        "        'user_id': rating['user_id'],\n",
        "        # `movie_id` is useful as a movie identifier.\n",
        "        'movie_id': rating['movie_id'],\n",
        "        # `movie_title` is useful as a textual information about the movie.\n",
        "        'movie_title': rating['movie_title'],\n",
        "        # `user_rating` shows the user's level of interest to a movie.\n",
        "        'user_rating': rating['user_rating'],\n",
        "        # `timestamp` will allow us to model the effect of time.\n",
        "        'timestamp': rating['timestamp']\n",
        "    }\n",
        ")\n",
        "\n",
        "print(\n",
        "    tfds.as_dataframe(ratings_dataset.take(5), ratings_dataset_info)\n",
        ")\n",
        "\n",
        "## Split dataset randomly (80% for train and 20% for test)\n",
        "trainset_size = 0.8 * ratings_dataset.__len__().numpy()\n",
        "# In an industrial recommender system, this would most likely be done by time:\n",
        "# The data up to time T would be used to predict interactions after T.\n",
        "\n",
        "# set the global seed:\n",
        "tf.random.set_seed(42)\n",
        "# More info: https://www.tensorflow.org/api_docs/python/tf/random/set_seed\n",
        "\n",
        "# Shuffle the elements of the dataset randomly.\n",
        "ratings_dataset_shuffled = ratings_dataset.shuffle(\n",
        "    # the new dataset will be sampled from a buffer window of first `buffer_size`\n",
        "    # elements of the dataset\n",
        "    buffer_size=100_000,\n",
        "    # set the random seed that will be used to create the distribution.\n",
        "    seed=42,\n",
        "    # `list(dataset.as_numpy_iterator()` yields different result for each call\n",
        "    # Because reshuffle_each_iteration defaults to True.\n",
        "    reshuffle_each_iteration=False\n",
        ")\n",
        "# More info: https://www.tensorflow.org/api_docs/python/tf/data/Dataset#shuffle\n",
        " \n",
        "ratings_trainset = ratings_dataset_shuffled.take(trainset_size)\n",
        "ratings_testset = ratings_dataset_shuffled.skip(trainset_size)\n",
        "\n",
        "print(\n",
        "    \"ratings_trainset size: %d\" % ratings_trainset.__len__()\n",
        ")\n",
        "print(\n",
        "    \"ratings_testset size: %d\" % ratings_testset.__len__()\n",
        ")"
      ],
      "execution_count": null,
      "outputs": [
        {
          "output_type": "stream",
          "text": [
            "\u001b[1mDownloading and preparing dataset 4.70 MiB (download: 4.70 MiB, generated: 32.41 MiB, total: 37.10 MiB) to /root/tensorflow_datasets/movielens/100k-ratings/0.1.0...\u001b[0m\n"
          ],
          "name": "stdout"
        },
        {
          "output_type": "display_data",
          "data": {
            "application/vnd.jupyter.widget-view+json": {
              "model_id": "ea5b93232e074516a4080b0ad9a2cdab",
              "version_minor": 0,
              "version_major": 2
            },
            "text/plain": [
              "HBox(children=(FloatProgress(value=1.0, bar_style='info', description='Dl Completed...', max=1.0, style=Progre…"
            ]
          },
          "metadata": {
            "tags": []
          }
        },
        {
          "output_type": "display_data",
          "data": {
            "application/vnd.jupyter.widget-view+json": {
              "model_id": "9326e8a7c4294b179dade4caa38ed166",
              "version_minor": 0,
              "version_major": 2
            },
            "text/plain": [
              "HBox(children=(FloatProgress(value=1.0, bar_style='info', description='Dl Size...', max=1.0, style=ProgressSty…"
            ]
          },
          "metadata": {
            "tags": []
          }
        },
        {
          "output_type": "display_data",
          "data": {
            "application/vnd.jupyter.widget-view+json": {
              "model_id": "acda6ebe40d14e0c900b0dfbe5ce5e4b",
              "version_minor": 0,
              "version_major": 2
            },
            "text/plain": [
              "HBox(children=(FloatProgress(value=1.0, bar_style='info', description='Extraction completed...', max=1.0, styl…"
            ]
          },
          "metadata": {
            "tags": []
          }
        },
        {
          "output_type": "stream",
          "text": [
            "\n",
            "\n",
            "\n",
            "\n",
            "\n",
            "\n"
          ],
          "name": "stdout"
        },
        {
          "output_type": "display_data",
          "data": {
            "application/vnd.jupyter.widget-view+json": {
              "model_id": "c85db6d37ffa4aa999d4cc83c976b6f9",
              "version_minor": 0,
              "version_major": 2
            },
            "text/plain": [
              "HBox(children=(FloatProgress(value=0.0, description='Generating splits...', max=1.0, style=ProgressStyle(descr…"
            ]
          },
          "metadata": {
            "tags": []
          }
        },
        {
          "output_type": "display_data",
          "data": {
            "application/vnd.jupyter.widget-view+json": {
              "model_id": "58ed1e1811ff4457a32719fdf78acdab",
              "version_minor": 0,
              "version_major": 2
            },
            "text/plain": [
              "HBox(children=(FloatProgress(value=0.0, description='Generating train examples...', max=100000.0, style=Progre…"
            ]
          },
          "metadata": {
            "tags": []
          }
        },
        {
          "output_type": "display_data",
          "data": {
            "application/vnd.jupyter.widget-view+json": {
              "model_id": "a76bdd5541c94629a93544f9b6d3bae1",
              "version_minor": 0,
              "version_major": 2
            },
            "text/plain": [
              "HBox(children=(FloatProgress(value=0.0, description='Shuffling movielens-train.tfrecord...', max=100000.0, sty…"
            ]
          },
          "metadata": {
            "tags": []
          }
        },
        {
          "output_type": "stream",
          "text": [
            "\r\u001b[1mDataset movielens downloaded and prepared to /root/tensorflow_datasets/movielens/100k-ratings/0.1.0. Subsequent calls will reuse this data.\u001b[0m\n",
            "ratings_dataset size: 100000\n",
            "   bucketized_user_age movie_genres  ... user_rating user_zip_code\n",
            "0                 45.0          [7]  ...         4.0      b'53211'\n",
            "1                 25.0      [4, 14]  ...         2.0      b'80525'\n",
            "2                 18.0          [4]  ...         4.0      b'55439'\n",
            "3                 50.0       [5, 7]  ...         4.0      b'06472'\n",
            "4                 50.0     [10, 16]  ...         3.0      b'75094'\n",
            "\n",
            "[5 rows x 12 columns]\n",
            "  movie_id                                movie_title  ...  user_id user_rating\n",
            "0   b'357'  b\"One Flew Over the Cuckoo's Nest (1975)\"  ...   b'138'         4.0\n",
            "1   b'709'                b'Strictly Ballroom (1992)'  ...    b'92'         2.0\n",
            "2   b'412'             b'Very Brady Sequel, A (1996)'  ...   b'301'         4.0\n",
            "3    b'56'                     b'Pulp Fiction (1994)'  ...    b'60'         4.0\n",
            "4   b'895'                         b'Scream 2 (1997)'  ...   b'197'         3.0\n",
            "\n",
            "[5 rows x 5 columns]\n",
            "ratings_trainset size: 80000\n",
            "ratings_testset size: 20000\n"
          ],
          "name": "stdout"
        }
      ]
    },
    {
      "cell_type": "markdown",
      "metadata": {
        "id": "2JOGVWBEWiZZ"
      },
      "source": [
        "To make a custom `tf.data.Dataset` object including your own dataset visit [this link](https://www.tensorflow.org/datasets/add_dataset).\n",
        "\n",
        "For more information about `tf.data.Dataset` visit [this link](https://www.tensorflow.org/api_docs/python/tf/data/Dataset)."
      ]
    },
    {
      "cell_type": "markdown",
      "metadata": {
        "id": "GnlXCP02UV8K"
      },
      "source": [
        "## Preprocess raw features and make embeddings with Keras preprocessing layers\n",
        "\n",
        "Raw features are usually not be immediately usable in a machine learning model and should be preprocessed in the first place.\n",
        "- **Numerical features** (ratings, prices, timestamps, etc) can be far away in terms of scale and need to be `normalized` so that their values lie in a small interval around 0.\n",
        "- **Categorical features** (ids, usernames/emails, titles, etc) are usually string features and have to be translated into `embedding vectors` (numerical feature representations) that are adjusted during training the model.\n",
        "- **Text features** (descriptions, comments, etc) need to be at first, `tokenized` (split into smaller parts such as individual words known as word pieces) and then translated into embeddings.\n",
        "\n",
        "[Keras preprocessing layers](https://keras.io/guides/preprocessing_layers/) let us build `end-to-end` portable models that accept raw features (raw images or raw structured data) as input; models that handle feature normalization or feature value indexing on their own."
      ]
    },
    {
      "cell_type": "markdown",
      "metadata": {
        "id": "EHvSx5Vq1dFO"
      },
      "source": [
        "Let's first have a look at what features we can use from the MovieLens dataset:\n"
      ]
    },
    {
      "cell_type": "code",
      "metadata": {
        "id": "iIiKVYmASodk",
        "colab": {
          "base_uri": "https://localhost:8080/"
        },
        "outputId": "c8286164-3127-41e9-ded5-934b326c65c8"
      },
      "source": [
        "from pprint import pprint\n",
        "\n",
        "for rating in ratings_trainset.take(1).as_numpy_iterator():\n",
        "  pprint(rating)"
      ],
      "execution_count": null,
      "outputs": [
        {
          "output_type": "stream",
          "text": [
            "{'movie_id': b'898',\n",
            " 'movie_title': b'Postman, The (1997)',\n",
            " 'timestamp': 885409515,\n",
            " 'user_id': b'681',\n",
            " 'user_rating': 4.0}\n"
          ],
          "name": "stdout"
        }
      ]
    },
    {
      "cell_type": "markdown",
      "metadata": {
        "id": "vAIqWlEjsvVO"
      },
      "source": [
        "For more information about each field visit [this link](https://www.tensorflow.org/datasets/catalog/movielens)."
      ]
    },
    {
      "cell_type": "markdown",
      "metadata": {
        "id": "82VLAC1qJHMD"
      },
      "source": [
        "### Normalize numerical features\n",
        "`timestamp` values are far too large to be used directly in a machine learning model. However, it can be normalized in a small interval around 0. Standardization (`Z-score Normalization`) is a common preprocessing transformation that rescales features to normalize their range by subtracting the feature's `mean` and dividing by its `standard deviation`.\n",
        "\n"
      ]
    },
    {
      "cell_type": "code",
      "metadata": {
        "id": "Ga9_p0_1GpUC",
        "colab": {
          "base_uri": "https://localhost:8080/"
        },
        "outputId": "13cf6e35-b23c-4ed5-fbde-e2ac000f7bdb"
      },
      "source": [
        "# Make a Keras Normalization layer to standardize a numerical feature.\n",
        "timestamp_normalization_layer = \\\n",
        "    tf.keras.layers.experimental.preprocessing.Normalization(axis=None)\n",
        "\n",
        "# Normalization layer is a non-trainable layer and its state (mean and std of\n",
        "# feature set) must be set before training in a step called \"adaptation\".\n",
        "timestamp_normalization_layer.adapt(\n",
        "    ratings_trainset.map(\n",
        "        lambda x: x['timestamp']\n",
        "    )\n",
        ")\n",
        "\n",
        "for rating in ratings_trainset.take(3).as_numpy_iterator():\n",
        "  print(\n",
        "      f\"Raw timestamp: {rating['timestamp']} ->\",\n",
        "      f\"Normalized timestamp: {timestamp_normalization_layer(rating['timestamp'])}\"\n",
        "  )"
      ],
      "execution_count": null,
      "outputs": [
        {
          "output_type": "stream",
          "text": [
            "Raw timestamp: 885409515 -> Normalized timestamp: 0.3526017963886261\n",
            "Raw timestamp: 883388887 -> Normalized timestamp: -0.026022713631391525\n",
            "Raw timestamp: 891249586 -> Normalized timestamp: 1.4468868970870972\n"
          ],
          "name": "stdout"
        }
      ]
    },
    {
      "cell_type": "markdown",
      "metadata": {
        "id": "Q_2VmQ4KpOpo"
      },
      "source": [
        "### Turning categorical features into embeddings\n",
        "\n",
        "A categorical feature is a feature that does not express a continuous quantity, but rather takes on one of a set of fixed values. Most deep learning models express these feature by turning them into high-dimensional embedding vectors which will be adjusted during model training.\n",
        "\n",
        "Here we represent each user and each movie by an embedding vector. Initially, these embeddings will take on random values, but during training, we will adjust them so that embeddings of users and the movies they watch end up closer together.\n",
        "\n",
        "Taking raw categorical features and turning them into embeddings is normally a two-step process:\n",
        "\n",
        "\n",
        "1.   Build a mapping (called a `\"vocabulary\"`) that maps each raw values for example \"Postman, The (1997)\" to unique integers (say, 15).\n",
        "2.   Turn these integers into embedding vectors.\n",
        "\n"
      ]
    },
    {
      "cell_type": "code",
      "metadata": {
        "id": "2yfWHKFfpPSx",
        "colab": {
          "base_uri": "https://localhost:8080/"
        },
        "outputId": "d48ddf78-6c1d-4f8f-f1b2-38b9e6962209"
      },
      "source": [
        "# Make a Keras StringLookup layer as the mapping (lookup)\n",
        "user_id_lookup_layer = \\\n",
        "    tf.keras.layers.experimental.preprocessing.StringLookup(mask_token=None)\n",
        "\n",
        "# StringLookup layer is a non-trainable layer and its state (the vocabulary)\n",
        "# must be constructed and set before training in a step called \"adaptation\".\n",
        "user_id_lookup_layer.adapt(\n",
        "    ratings_trainset.map(\n",
        "        lambda x: x['user_id']\n",
        "    )\n",
        ")\n",
        "\n",
        "print(\n",
        "    f\"Vocabulary[:10] -> {user_id_lookup_layer.get_vocabulary()[:10]}\"\n",
        "    # Vocabulary: ['[UNK]', '405', '655', '13', ...]\n",
        "    # The vocabulary includes one (or more!) unknown (or \"out of vocabulary\", OOV)\n",
        "    # tokens. So the layer can handle categorical values that are not in the\n",
        "    # vocabulary and the model can continue to learn about and make\n",
        "    # recommendations even using features that have not been seen during\n",
        "    # vocabulary construction.\n",
        ")\n",
        "\n",
        "print(\n",
        "    \"Mapped integer for user ids: ['-2', '13', '655', 'xxx']\\n\",\n",
        "    user_id_lookup_layer(\n",
        "        ['-2', '13', '655', 'xxx']\n",
        "    )\n",
        ")\n",
        "\n",
        "user_id_embedding_dim = 32\n",
        "# The larger it is, the higher the capacity of the model, but the slower it is\n",
        "# to fit and serve and more prone to overfitting.\n",
        "\n",
        "user_id_embedding_layer = tf.keras.layers.Embedding(\n",
        "    # Size of the vocabulary\n",
        "    input_dim=user_id_lookup_layer.vocab_size(),\n",
        "    # Dimension of the dense embedding\n",
        "    output_dim=user_id_embedding_dim\n",
        ")\n",
        " \n",
        "# A model that takes raw string feature values (user_id) in and yields embeddings\n",
        "user_id_model = tf.keras.Sequential(\n",
        "    [\n",
        "        user_id_lookup_layer,\n",
        "        user_id_embedding_layer\n",
        "    ]\n",
        ")\n",
        " \n",
        "print(\n",
        "    \"Embeddings for user ids: ['-2', '13', '655', 'xxx']\\n\",\n",
        "    user_id_model(\n",
        "        ['-2', '13', '655', 'xxx']\n",
        "    )\n",
        ")\n",
        "\n",
        "\n",
        "movie_id_lookup_layer = \\\n",
        "    tf.keras.layers.experimental.preprocessing.StringLookup(mask_token=None)\n",
        "movie_id_lookup_layer.adapt(\n",
        "    ratings_trainset.map(\n",
        "        lambda x: x['movie_id']\n",
        "    )\n",
        ")\n",
        "\n",
        "# Same as user_id_embedding_dim to be able to measure the similarity\n",
        "movie_id_embedding_dim = 32\n",
        "\n",
        "movie_id_embedding_layer = tf.keras.layers.Embedding(\n",
        "    input_dim=movie_id_lookup_layer.vocab_size(),\n",
        "    output_dim=movie_id_embedding_dim\n",
        ")\n",
        " \n",
        "movie_id_model = tf.keras.Sequential(\n",
        "    [\n",
        "        movie_id_lookup_layer,\n",
        "        movie_id_embedding_layer\n",
        "    ]\n",
        ")\n",
        "\n",
        "print(\n",
        "    f\"Embedding for the movie 898:\\n {movie_id_model('898')}\"\n",
        ")"
      ],
      "execution_count": null,
      "outputs": [
        {
          "output_type": "stream",
          "text": [
            "Vocabulary[:10] -> ['[UNK]', '405', '655', '13', '450', '276', '303', '416', '537', '234']\n",
            "Mapped integer for user ids: ['-2', '13', '655', 'xxx']\n",
            " tf.Tensor([0 3 2 0], shape=(4,), dtype=int64)\n",
            "WARNING:tensorflow:Layers in a Sequential model should only have a single input tensor, but we receive a <class 'list'> input: ['-2', '13', '655', 'xxx']\n",
            "Consider rewriting this model with the Functional API.\n"
          ],
          "name": "stdout"
        },
        {
          "output_type": "stream",
          "text": [
            "WARNING:tensorflow:Layers in a Sequential model should only have a single input tensor, but we receive a <class 'list'> input: ['-2', '13', '655', 'xxx']\n",
            "Consider rewriting this model with the Functional API.\n"
          ],
          "name": "stderr"
        },
        {
          "output_type": "stream",
          "text": [
            "Embeddings for user ids: ['-2', '13', '655', 'xxx']\n",
            " tf.Tensor(\n",
            "[[ 0.01645621 -0.00589932 -0.01471175 -0.00355174 -0.04663396  0.01846724\n",
            "   0.02401174  0.03724445 -0.02736737 -0.02768031 -0.01896119  0.02223358\n",
            "  -0.03668128  0.00480639  0.00746088  0.03996835 -0.04905364  0.00212307\n",
            "   0.01345445 -0.03006717  0.02294225  0.00458346 -0.03924345  0.01767061\n",
            "   0.01602763 -0.01630496  0.01014177 -0.02893742  0.03527372 -0.00593783\n",
            "   0.04485276 -0.02624741]\n",
            " [ 0.04355587 -0.04048269 -0.04138212  0.01247839 -0.01294935  0.00139042\n",
            "   0.01233207  0.03024682 -0.03334862 -0.02790955  0.01242272 -0.04128085\n",
            "   0.04214266  0.04348017  0.01045523 -0.00205957 -0.03556986 -0.01739997\n",
            "   0.04255753  0.02757342  0.0136765   0.01282351 -0.01459817 -0.00855327\n",
            "  -0.03894869 -0.0358853  -0.03112409  0.01894793  0.02213276 -0.02511839\n",
            "   0.00912381 -0.00024097]\n",
            " [ 0.00016055 -0.03171784 -0.03682018  0.01463613  0.04559476  0.01670735\n",
            "  -0.01924447 -0.01310781 -0.0052641  -0.03164054  0.00288255  0.02052755\n",
            "   0.0398633  -0.01861371  0.01233826  0.04681553 -0.03879207 -0.02040946\n",
            "   0.04356605 -0.03658737 -0.01806207 -0.0237723  -0.04685124  0.04004553\n",
            "   0.01409379  0.00821855 -0.02908291  0.02173609 -0.0136477  -0.04532908\n",
            "  -0.03502221  0.03436175]\n",
            " [ 0.01645621 -0.00589932 -0.01471175 -0.00355174 -0.04663396  0.01846724\n",
            "   0.02401174  0.03724445 -0.02736737 -0.02768031 -0.01896119  0.02223358\n",
            "  -0.03668128  0.00480639  0.00746088  0.03996835 -0.04905364  0.00212307\n",
            "   0.01345445 -0.03006717  0.02294225  0.00458346 -0.03924345  0.01767061\n",
            "   0.01602763 -0.01630496  0.01014177 -0.02893742  0.03527372 -0.00593783\n",
            "   0.04485276 -0.02624741]], shape=(4, 32), dtype=float32)\n",
            "WARNING:tensorflow:Layers in a Sequential model should only have a single input tensor, but we receive a <class 'str'> input: 898\n",
            "Consider rewriting this model with the Functional API.\n"
          ],
          "name": "stdout"
        },
        {
          "output_type": "stream",
          "text": [
            "WARNING:tensorflow:Layers in a Sequential model should only have a single input tensor, but we receive a <class 'str'> input: 898\n",
            "Consider rewriting this model with the Functional API.\n"
          ],
          "name": "stderr"
        },
        {
          "output_type": "stream",
          "text": [
            "Embedding for the movie 898:\n",
            " [-0.00188267 -0.01525087 -0.00824153 -0.04668652  0.005212   -0.02621797\n",
            "  0.03498086 -0.03825183  0.02820224 -0.03877431  0.02133146 -0.0108206\n",
            "  0.02659546 -0.00487442 -0.02332041 -0.02766312 -0.03729247 -0.02090429\n",
            " -0.02203454  0.00766915  0.03768411 -0.00749893 -0.03042971 -0.01427402\n",
            " -0.0393108  -0.04658396 -0.00478858  0.01963672 -0.04822909 -0.00989123\n",
            "  0.02923337  0.02679086]\n"
          ],
          "name": "stdout"
        }
      ]
    },
    {
      "cell_type": "markdown",
      "metadata": {
        "id": "U3hdi7pZS2oC"
      },
      "source": [
        "### Tokenize textual features and translate them into embeddings\n",
        "Candidates textual description and users' reviews can be useful especially in a `cold-start` or `long-tail` scenario.\n",
        "\n",
        "While the MovieLens dataset does not give us rich textual features, we can still use movie titles. This may help us capture the fact that movies with very similar titles are likely to belong to the same series (for example \"Harry Potter and the Philosopher's Stone\" and \"Harry Potter and the Chamber of Secrets\")."
      ]
    },
    {
      "cell_type": "code",
      "metadata": {
        "id": "mGF8c2ZKOtuG",
        "colab": {
          "base_uri": "https://localhost:8080/"
        },
        "outputId": "3941d2e4-cbc3-442e-d4cb-45210a26ad5f"
      },
      "source": [
        "# Keras TextVectorization layer transforms the raw texts into `word pieces` and\n",
        "# map these pieces into tokens.\n",
        "movie_title_vectorization_layer = \\\n",
        "    tf.keras.layers.experimental.preprocessing.TextVectorization()\n",
        "movie_title_vectorization_layer.adapt(\n",
        "    ratings_trainset.map(\n",
        "        lambda rating: rating['movie_title']\n",
        "    )\n",
        ")\n",
        "\n",
        "# Verify that the tokenization is done correctly\n",
        "print(\n",
        "    \"Vocabulary[40:50] -> \",\n",
        "    movie_title_vectorization_layer.get_vocabulary()[40:50]\n",
        ")\n",
        "\n",
        "print(\n",
        "    \"Vectorized title for 'Postman, The (1997)'\\n\",\n",
        "    movie_title_vectorization_layer('Postman, The (1997)')\n",
        ")\n",
        "\n",
        "movie_title_embedding_dim = 32\n",
        "movie_title_embedding_layer = tf.keras.layers.Embedding(\n",
        "    input_dim=len(movie_title_vectorization_layer.get_vocabulary()),\n",
        "    output_dim=movie_title_embedding_dim,\n",
        "    # Whether or not the input value 0 is a MASK token.\n",
        "    # Keras TextVectorization layer builds the vocabulary with MASK token.\n",
        "    mask_zero=True\n",
        ")\n",
        "\n",
        "movie_title_model = tf.keras.Sequential(\n",
        "    [\n",
        "       movie_title_vectorization_layer,\n",
        "       movie_title_embedding_layer,\n",
        "       # each title contains multiple words, so we will get multiple embeddings\n",
        "       # for each title that should be compressed into a single embedding for\n",
        "       # the text. Models like RNNs, Transformers or Attentions are useful here.\n",
        "       # However, averaging all the words' embeddings together is also a good\n",
        "       # starting point.\n",
        "       tf.keras.layers.GlobalAveragePooling1D()\n",
        "    ]\n",
        ")"
      ],
      "execution_count": null,
      "outputs": [
        {
          "output_type": "stream",
          "text": [
            "Vocabulary[40:50] ->  ['first', 'contact', '1971', '1977', 'monty', '1983', 'love', 'on', 'last', 'men']\n",
            "Vectorized title for 'Postman, The (1997)'\n",
            " tf.Tensor([1120    2    4], shape=(3,), dtype=int64)\n"
          ],
          "name": "stdout"
        }
      ]
    },
    {
      "cell_type": "markdown",
      "metadata": {
        "id": "PEmOyPxuOcHx"
      },
      "source": [
        "For more information about feature preprocessing visit [this link](https://www.tensorflow.org/recommenders/examples/featurization?hl=lt)."
      ]
    },
    {
      "cell_type": "markdown",
      "metadata": {
        "id": "UChreol5-Aj2"
      },
      "source": [
        "## Query and Candidate representation\n",
        "We are building a [two-tower retrieval model](https://research.google/pubs/pub48840/), a model including two seperate models (towers) one for transforming query raw features to query representation (query tower) and one another for transforming candidate raw features to the same dimensionality candidate representation.\n",
        "\n",
        "The output tensors of the two models will multiply together (inner product) to give a query-candidate `affinity score` (similarity measure). Higher scores express a better match between the candidate and the query."
      ]
    },
    {
      "cell_type": "code",
      "metadata": {
        "id": "H1jx9RDfoJIq"
      },
      "source": [
        "# Query tower\n",
        "query_model = user_id_model\n",
        " \n",
        "# Candidate tower\n",
        "candidate_model = movie_id_model\n",
        " \n",
        " \n",
        "# Here we only used query and candidate identifiers to buid the towers. This\n",
        "# corresponds exactly to a classic matrix factorization approach.\n",
        "# https://ieeexplore.ieee.org/abstract/document/4781121\n",
        "# However, we can extend `tf.keras.Model` class to an arbitrarily complex model\n",
        "# including other features and return the final embedding vector at the end.\n",
        "# For example, by using movie metadata in the candidate tower, we can alleviate\n",
        "# cold-start problem.\n",
        "# return tf.concat([\n",
        "#         self.user_embedding(inputs[\"user_id\"]),\n",
        "#         self.timestamp_embedding(inputs[\"timestamp\"]),\n",
        "#         self.normalized_timestamp(inputs[\"timestamp\"])\n",
        "#     ], axis=1)"
      ],
      "execution_count": null,
      "outputs": []
    },
    {
      "cell_type": "markdown",
      "metadata": {
        "id": "-X0nS9g18q4v"
      },
      "source": [
        "## Build the Retrieval (Candidate Generation) task\n",
        "\n",
        "It is about selecting an initial set of hundreds of candidates from all possible candidates. The main objective of this model is to efficiently weed out all candidates that the user is not interested in. Because the retrieval model may be dealing with millions of candidates, **it has to be computationally efficient**.\n",
        "\n",
        "A retrieval system is a model that predicts a set of movies from the catalogue that the user is likely to watch. So the train set should be expressesing which movies the users watched, and which they did not. for example:\n",
        "```\n",
        "[\n",
        "  (('user1', 'Star Wars'), POSITIVE),\n",
        "  (('user1', 'Harry Potter'), NEGATIVE),\n",
        "  ...\n",
        "]\n",
        "```\n",
        "So we treat Movielens as an `implicit feedback dataset`, where users' watches tell us which things they prefer to see and which they'd rather not see. This means that every movie a user rated (so watched!), no matter the given rating, is an **implicit positive example**, and every movie they have not rated (not seen!) is an **implicit negative example**."
      ]
    },
    {
      "cell_type": "code",
      "metadata": {
        "id": "QP5VaGW69c2B"
      },
      "source": [
        "# We don't need rating field for the retrieval task\n",
        "retrieval_ratings_trainset = ratings_trainset.map(\n",
        "    lambda rating: {\n",
        "        'user_id': rating['user_id'],\n",
        "        'movie_id': rating['movie_id'],\n",
        "    }\n",
        ")\n",
        " \n",
        "retrieval_ratings_testset = ratings_testset.map(\n",
        "    lambda rating: {\n",
        "        'user_id': rating['user_id'],\n",
        "        'movie_id': rating['movie_id'],\n",
        "    }\n",
        ")"
      ],
      "execution_count": null,
      "outputs": []
    },
    {
      "cell_type": "markdown",
      "metadata": {
        "id": "SqeFh9s99bLw"
      },
      "source": [
        "The similarity between the query representation (query embedding vector) and the candiate representation (candidate embedding vector) a.k.a. `affinity score` can be calcualted by dot-product (or other similarity measures). The K-nearest candidates (candidates with higher affinity scores) will be chosen for the final list.\n",
        "\n",
        "In our training data we only have positive (user, movie) pairs. To figure out how good our model is, we need to compare the affinity score that the model calculates for this positive pair to the scores of all the other possible candidates: if the score for the positive pair is higher than for all other possible candidates, our model is highly accurate.\n",
        "\n",
        "To measure the performance of a retrieval task, `factorized top-K categorical accuracy` metrics over a corpus of candidates can be used. These metrics measure how good the model is at picking the true candidate out of **all possible candidates** in the system.\n",
        "\n",
        "For example, a `top-5 categorical accuracy` metric of `0.2` would tell us that, on average, the true positive is in the top 5 retrieved items 20% of the time."
      ]
    },
    {
      "cell_type": "code",
      "metadata": {
        "id": "DgwkIUn71_0y",
        "colab": {
          "base_uri": "https://localhost:8080/",
          "height": 356,
          "referenced_widgets": [
            "5836d1a2e06d4417a79a306987ca2a8d",
            "4c7f3f0497a442498e29140b13da3718",
            "5eac2b4797f342589fdf1a729d69b4c4",
            "82bc0ba55b52415ca3c1d092d402f0d8",
            "4cead5ce2ec549389930e286008dbd43",
            "43a37170841b406ead6ed8a0061290f5",
            "f2df5ab944484b9aa5571b1f92fb31ae",
            "78a235be12ae486cb85db74c9e0dc696",
            "37d9b4c872a042bf83509aabf01e49cf",
            "048b5344d1f94581b549a774e27d5b54",
            "c8cca219c1194d36bc93f0ce16664154",
            "3dd0280309064c14970cd7186b7ba0d6",
            "d370bf61eff04e778a1810ed74ce2d45",
            "76b9fe27088a42eeb6c861aa61b4218c",
            "cb907be1778148688a8b3d344378259e",
            "be1e18a683bf474b83414922115b8cb3",
            "017c5f33da3a497097df21de70bfd873",
            "0bbb513d33884d6ab920498cf07a74a1",
            "f5994d027b694fd68d9534f4685b8448",
            "e42f9d4198c549da9a0c3abdffc30cd7",
            "cae09be9a5f346a2bb7663396474f7ab",
            "3ce95d4466bc43019bb09538fe551f2d",
            "7122e14af06b4b0e9c9091cf3d325122",
            "e1fa286fbc844c6e821b1aa2479a5c61",
            "1d1e79c03bb145738ef6fee464a5274e",
            "cea1babe04e34a929978ae0ee86d07da",
            "e6964e7aaa8f42e293e41ca62f8bb1d3",
            "c4a5eb5a8e654be4b269af08a31add41",
            "b8425150aca94b619551ee8fe8349738",
            "1b30b087eda94047a350ee51248512d5",
            "df215de96d744afca92ae23c3ef16263",
            "8ab2b2f1658b4a728bbb31b0817a2973",
            "380f4d4102b34e60abfed1eb9bdbadd2",
            "00f1ec84c2c54d36b5a69eb76f546613",
            "bd1f4889292c471992e68a83ab764858",
            "d883f0e109ff46f9a449a411a1404025",
            "9d5e2fb4988e46fea9cd924e82e13d5d",
            "a7318131bcd347c7a3c28fe94bcce41b",
            "c0ad928e95664faea5f00efb245e75ec",
            "7fafd911808f4381b88aa2956beb3d1c",
            "a31a11356ec04a97b6cc7957985fce93",
            "8ca8e193f3604436a2b76b062a1b2bfa",
            "5641187ab3124a2c97613794ff3a2140",
            "87c44927b6fd4fa188a3f2bba1968d26",
            "bc2f6fcc89734b43a83c72226f5d6bc0",
            "f51b4a5b99e040fd9f9681c5f2451c74",
            "dc80ecc2d8974e0bb23120bff7d0e215",
            "0ee218a7eed5400cb5b79a338effae5d"
          ]
        },
        "outputId": "5f0d33f7-88fb-4502-8a7d-cdee8a763306"
      },
      "source": [
        "# To calculate the factorized top-k categorical accuracy we need the dataset of\n",
        "# all possible candidates that are used as implicit negatives for evaluation.\n",
        "movies_dataset, movies_dataset_info = tfds.load(\n",
        "    name='movielens/100k-movies',\n",
        "    split='train',\n",
        "    with_info=True\n",
        ")\n",
        "\n",
        "print(\n",
        "    tfds.as_dataframe(movies_dataset.take(5), movies_dataset_info)\n",
        ")\n",
        " \n",
        "# We are using just `movie_id` feature for making the candidates representation\n",
        "candidates_corpus_dataset = movies_dataset.map(\n",
        "    lambda movie: movie['movie_id']\n",
        ")"
      ],
      "execution_count": null,
      "outputs": [
        {
          "output_type": "stream",
          "text": [
            "\u001b[1mDownloading and preparing dataset 4.70 MiB (download: 4.70 MiB, generated: 150.35 KiB, total: 4.84 MiB) to /root/tensorflow_datasets/movielens/100k-movies/0.1.0...\u001b[0m\n"
          ],
          "name": "stdout"
        },
        {
          "output_type": "display_data",
          "data": {
            "application/vnd.jupyter.widget-view+json": {
              "model_id": "5836d1a2e06d4417a79a306987ca2a8d",
              "version_minor": 0,
              "version_major": 2
            },
            "text/plain": [
              "HBox(children=(FloatProgress(value=1.0, bar_style='info', description='Dl Completed...', max=1.0, style=Progre…"
            ]
          },
          "metadata": {
            "tags": []
          }
        },
        {
          "output_type": "display_data",
          "data": {
            "application/vnd.jupyter.widget-view+json": {
              "model_id": "37d9b4c872a042bf83509aabf01e49cf",
              "version_minor": 0,
              "version_major": 2
            },
            "text/plain": [
              "HBox(children=(FloatProgress(value=1.0, bar_style='info', description='Dl Size...', max=1.0, style=ProgressSty…"
            ]
          },
          "metadata": {
            "tags": []
          }
        },
        {
          "output_type": "display_data",
          "data": {
            "application/vnd.jupyter.widget-view+json": {
              "model_id": "017c5f33da3a497097df21de70bfd873",
              "version_minor": 0,
              "version_major": 2
            },
            "text/plain": [
              "HBox(children=(FloatProgress(value=1.0, bar_style='info', description='Extraction completed...', max=1.0, styl…"
            ]
          },
          "metadata": {
            "tags": []
          }
        },
        {
          "output_type": "stream",
          "text": [
            "\n",
            "\n",
            "\n",
            "\n",
            "\n",
            "\n"
          ],
          "name": "stdout"
        },
        {
          "output_type": "display_data",
          "data": {
            "application/vnd.jupyter.widget-view+json": {
              "model_id": "1d1e79c03bb145738ef6fee464a5274e",
              "version_minor": 0,
              "version_major": 2
            },
            "text/plain": [
              "HBox(children=(FloatProgress(value=0.0, description='Generating splits...', max=1.0, style=ProgressStyle(descr…"
            ]
          },
          "metadata": {
            "tags": []
          }
        },
        {
          "output_type": "display_data",
          "data": {
            "application/vnd.jupyter.widget-view+json": {
              "model_id": "380f4d4102b34e60abfed1eb9bdbadd2",
              "version_minor": 0,
              "version_major": 2
            },
            "text/plain": [
              "HBox(children=(FloatProgress(value=0.0, description='Generating train examples...', max=1682.0, style=Progress…"
            ]
          },
          "metadata": {
            "tags": []
          }
        },
        {
          "output_type": "display_data",
          "data": {
            "application/vnd.jupyter.widget-view+json": {
              "model_id": "a31a11356ec04a97b6cc7957985fce93",
              "version_minor": 0,
              "version_major": 2
            },
            "text/plain": [
              "HBox(children=(FloatProgress(value=0.0, description='Shuffling movielens-train.tfrecord...', max=1682.0, style…"
            ]
          },
          "metadata": {
            "tags": []
          }
        },
        {
          "output_type": "stream",
          "text": [
            "\r\u001b[1mDataset movielens downloaded and prepared to /root/tensorflow_datasets/movielens/100k-movies/0.1.0. Subsequent calls will reuse this data.\u001b[0m\n",
            "  movie_genres movie_id                      movie_title\n",
            "0          [4]  b'1681'           b'You So Crazy (1994)'\n",
            "1       [4, 7]  b'1457'   b'Love Is All There Is (1996)'\n",
            "2       [1, 3]   b'500'          b'Fly Away Home (1996)'\n",
            "3          [0]   b'838'  b'In the Line of Duty 2 (1987)'\n",
            "4          [7]  b'1648'       b'Niagara, Niagara (1997)'\n"
          ],
          "name": "stdout"
        }
      ]
    },
    {
      "cell_type": "markdown",
      "metadata": {
        "id": "P0aPHewDuQZf"
      },
      "source": [
        "[TensorFlow Recommenders](https://www.tensorflow.org/recommenders) (TFRS) is a library to facilitate building and evaluating flexible recommendation models.\n",
        "\n",
        "It can calculate the `factorized top-k categorical accuracy` through `FactorizedTopK` metrics using dataset of all possible candidate embeddings."
      ]
    },
    {
      "cell_type": "code",
      "metadata": {
        "id": "YPO73Ihx_xQS",
        "colab": {
          "base_uri": "https://localhost:8080/"
        },
        "outputId": "429718b5-5533-49a2-cc06-ed6379ce37b4"
      },
      "source": [
        "!pip install -q scann tensorflow-recommenders\n",
        "# We also installed `ScaNN` package as a dependency for TFRS library\n",
        "# We will describe ScaNN in future but it has to be installed before importing\n",
        "# the TFRS\n",
        "import tensorflow_recommenders as tfrs\n",
        "\n",
        "factorized_top_k_metrics = tfrs.metrics.FactorizedTopK(\n",
        "    # dataset of candidate embeddings from which candidates should be retrieved\n",
        "    candidates=candidates_corpus_dataset.batch(128).map(\n",
        "        candidate_model\n",
        "    )\n",
        ")"
      ],
      "execution_count": null,
      "outputs": [
        {
          "output_type": "stream",
          "text": [
            "\u001b[K     |████████████████████████████████| 61kB 4.1MB/s \n",
            "\u001b[K     |████████████████████████████████| 394.7MB 43kB/s \n",
            "\u001b[K     |████████████████████████████████| 11.1MB 11.1MB/s \n",
            "\u001b[?25h"
          ],
          "name": "stdout"
        }
      ]
    },
    {
      "cell_type": "markdown",
      "metadata": {
        "id": "Ie_v22Od-zY8"
      },
      "source": [
        "`in-batch softmax loss` can be used as a `loss function` in order to train the system.\n",
        "\n",
        "TFRS proposes a Keras layer named `tfrs.tasks.Retrieval` that takes the query and candidate embeddings as arguments, and returns the computed loss."
      ]
    },
    {
      "cell_type": "code",
      "metadata": {
        "id": "4E8eOyErNqHY"
      },
      "source": [
        "retrieval_task_layer = tfrs.tasks.Retrieval(\n",
        "    metrics=factorized_top_k_metrics\n",
        ")\n",
        "\n",
        "# The task computes the metrics and return the in-batch softmax loss.\n",
        "# Because the metrics range over the entire candidate set, they are usually much\n",
        "# slower to compute. Consider setting `compute_metrics=False` in Retrieval\n",
        "# costructor during training to save the time in computing the metrics."
      ],
      "execution_count": null,
      "outputs": []
    },
    {
      "cell_type": "markdown",
      "metadata": {
        "id": "lVFXh69bPYL9"
      },
      "source": [
        "### Create the training loop\n",
        "To create an appropriate training loop and train the models we can extend the class `tf.keras.Model` and override the `train_step` and `test_step` functions. [See how](https://keras.io/guides/customizing_what_happens_in_fit/).\n",
        "\n",
        "However, to keep the focus on modelling and abstract away some of the boilerplate, TFRS exposes `tfrs.models.Model` base class which allows us to compute both training and test losses using the same method. All we need to do is to set up the components in the `__init__` method, and implement the `compute_loss` method, taking in the raw features and returning a loss value. The base model will then take care of creating the appropriate training loop to fit the model."
      ]
    },
    {
      "cell_type": "code",
      "metadata": {
        "id": "EGN_rnLNN07m"
      },
      "source": [
        "class RetrievalModel(tfrs.models.Model):\n",
        "  \"\"\"MovieLens candidate generation model\"\"\"\n",
        " \n",
        "  def __init__(self, query_model, candidate_model, retrieval_task_layer):\n",
        "    super().__init__()\n",
        "    self.query_model: tf.keras.Model = query_model\n",
        "    self.candidate_model: tf.keras.Model = candidate_model\n",
        "    self.retrieval_task_layer: tf.keras.layers.Layer = retrieval_task_layer\n",
        " \n",
        " #def compute_loss(self, features: Dict[Text, tf.Tensor], training=False):\n",
        "  def compute_loss(self, features, training=False) -> tf.Tensor:\n",
        "    query_embeddings = self.query_model(features['user_id'])\n",
        "    positive_candidate_embeddings = self.candidate_model(features[\"movie_id\"])\n",
        "\n",
        "    loss = self.retrieval_task_layer(\n",
        "        query_embeddings,\n",
        "        positive_candidate_embeddings\n",
        "        # ,compute_metrics=not training  # To speed up training\n",
        "    )\n",
        "    return loss"
      ],
      "execution_count": null,
      "outputs": []
    },
    {
      "cell_type": "markdown",
      "metadata": {
        "id": "ylJqYSN8GH68"
      },
      "source": [
        "### Fit the model using standard Keras routine"
      ]
    },
    {
      "cell_type": "code",
      "metadata": {
        "id": "HoyYTDhB9CAP"
      },
      "source": [
        "movielens_retrieval_model = RetrievalModel(\n",
        "    query_model,\n",
        "    candidate_model,\n",
        "    retrieval_task_layer\n",
        ")\n",
        "\n",
        "optimizer_step_size = 0.1\n",
        "movielens_retrieval_model.compile(\n",
        "    optimizer=tf.keras.optimizers.Adagrad(\n",
        "        learning_rate=optimizer_step_size\n",
        "    )\n",
        ")"
      ],
      "execution_count": null,
      "outputs": []
    },
    {
      "cell_type": "code",
      "metadata": {
        "id": "ZNw02KWxE3bI",
        "colab": {
          "base_uri": "https://localhost:8080/"
        },
        "outputId": "0282f6e9-af6a-49b9-e726-a3cfe593df10"
      },
      "source": [
        "# Shuffle the training data for each epoch.\n",
        "# Batch and cache both the training and evaluation data.\n",
        "# `cache()` method caches the elements in the dataset in memory. To caches data\n",
        "# in a file pass the `filename` argument to the method: cache(filename='')\n",
        "# The first time the dataset is iterated over, its elements will be cached\n",
        "# either in the specified file or in memory. Subsequent iterations will use the\n",
        "# cached data.\n",
        "retrieval_cached_ratings_trainset = \\\n",
        "  retrieval_ratings_trainset.shuffle(100_000).batch(8192).cache()\n",
        "retrieval_cached_ratings_testset = \\\n",
        "  retrieval_ratings_testset.batch(4096).cache()\n",
        " \n",
        "num_epochs = 5 \n",
        "history = movielens_retrieval_model.fit(\n",
        "    retrieval_cached_ratings_trainset,\n",
        "    validation_data=retrieval_cached_ratings_testset,\n",
        "    validation_freq=1,\n",
        "    epochs=num_epochs\n",
        ")"
      ],
      "execution_count": null,
      "outputs": [
        {
          "output_type": "stream",
          "text": [
            "Epoch 1/5\n",
            "10/10 [==============================] - 33s 3s/step - factorized_top_k/top_1_categorical_accuracy: 1.7500e-04 - factorized_top_k/top_5_categorical_accuracy: 0.0025 - factorized_top_k/top_10_categorical_accuracy: 0.0064 - factorized_top_k/top_50_categorical_accuracy: 0.0655 - factorized_top_k/top_100_categorical_accuracy: 0.1396 - loss: 69844.1065 - regularization_loss: 0.0000e+00 - total_loss: 69844.1065 - val_factorized_top_k/top_1_categorical_accuracy: 0.0024 - val_factorized_top_k/top_5_categorical_accuracy: 0.0148 - val_factorized_top_k/top_10_categorical_accuracy: 0.0314 - val_factorized_top_k/top_50_categorical_accuracy: 0.1550 - val_factorized_top_k/top_100_categorical_accuracy: 0.2723 - val_loss: 28808.9102 - val_regularization_loss: 0.0000e+00 - val_total_loss: 28808.9102\n",
            "Epoch 2/5\n",
            "10/10 [==============================] - 29s 3s/step - factorized_top_k/top_1_categorical_accuracy: 0.0016 - factorized_top_k/top_5_categorical_accuracy: 0.0143 - factorized_top_k/top_10_categorical_accuracy: 0.0320 - factorized_top_k/top_50_categorical_accuracy: 0.1571 - factorized_top_k/top_100_categorical_accuracy: 0.2805 - loss: 67482.7500 - regularization_loss: 0.0000e+00 - total_loss: 67482.7500 - val_factorized_top_k/top_1_categorical_accuracy: 0.0015 - val_factorized_top_k/top_5_categorical_accuracy: 0.0125 - val_factorized_top_k/top_10_categorical_accuracy: 0.0260 - val_factorized_top_k/top_50_categorical_accuracy: 0.1339 - val_factorized_top_k/top_100_categorical_accuracy: 0.2493 - val_loss: 28339.3379 - val_regularization_loss: 0.0000e+00 - val_total_loss: 28339.3379\n",
            "Epoch 3/5\n",
            "10/10 [==============================] - 30s 3s/step - factorized_top_k/top_1_categorical_accuracy: 0.0024 - factorized_top_k/top_5_categorical_accuracy: 0.0200 - factorized_top_k/top_10_categorical_accuracy: 0.0427 - factorized_top_k/top_50_categorical_accuracy: 0.1851 - factorized_top_k/top_100_categorical_accuracy: 0.3122 - loss: 66307.1009 - regularization_loss: 0.0000e+00 - total_loss: 66307.1009 - val_factorized_top_k/top_1_categorical_accuracy: 0.0012 - val_factorized_top_k/top_5_categorical_accuracy: 0.0097 - val_factorized_top_k/top_10_categorical_accuracy: 0.0216 - val_factorized_top_k/top_50_categorical_accuracy: 0.1235 - val_factorized_top_k/top_100_categorical_accuracy: 0.2349 - val_loss: 28256.8340 - val_regularization_loss: 0.0000e+00 - val_total_loss: 28256.8340\n",
            "Epoch 4/5\n",
            "10/10 [==============================] - 30s 3s/step - factorized_top_k/top_1_categorical_accuracy: 0.0023 - factorized_top_k/top_5_categorical_accuracy: 0.0241 - factorized_top_k/top_10_categorical_accuracy: 0.0487 - factorized_top_k/top_50_categorical_accuracy: 0.2023 - factorized_top_k/top_100_categorical_accuracy: 0.3328 - loss: 65604.8991 - regularization_loss: 0.0000e+00 - total_loss: 65604.8991 - val_factorized_top_k/top_1_categorical_accuracy: 0.0010 - val_factorized_top_k/top_5_categorical_accuracy: 0.0071 - val_factorized_top_k/top_10_categorical_accuracy: 0.0179 - val_factorized_top_k/top_50_categorical_accuracy: 0.1152 - val_factorized_top_k/top_100_categorical_accuracy: 0.2237 - val_loss: 28279.2637 - val_regularization_loss: 0.0000e+00 - val_total_loss: 28279.2637\n",
            "Epoch 5/5\n",
            "10/10 [==============================] - 30s 3s/step - factorized_top_k/top_1_categorical_accuracy: 0.0026 - factorized_top_k/top_5_categorical_accuracy: 0.0261 - factorized_top_k/top_10_categorical_accuracy: 0.0543 - factorized_top_k/top_50_categorical_accuracy: 0.2155 - factorized_top_k/top_100_categorical_accuracy: 0.3483 - loss: 65096.5256 - regularization_loss: 0.0000e+00 - total_loss: 65096.5256 - val_factorized_top_k/top_1_categorical_accuracy: 6.5000e-04 - val_factorized_top_k/top_5_categorical_accuracy: 0.0057 - val_factorized_top_k/top_10_categorical_accuracy: 0.0151 - val_factorized_top_k/top_50_categorical_accuracy: 0.1055 - val_factorized_top_k/top_100_categorical_accuracy: 0.2146 - val_loss: 28346.2773 - val_regularization_loss: 0.0000e+00 - val_total_loss: 28346.2773\n"
          ],
          "name": "stdout"
        }
      ]
    },
    {
      "cell_type": "markdown",
      "metadata": {
        "id": "lvDnN_hQJ5fi"
      },
      "source": [
        "`factorized_top_k/top_10_categorical_accuracy: 0.0538` would tell us that, on average, the true positive is in the top 10 retrieved items from the entire candidate set 5% of the time.\n",
        "\n",
        "If the candidate set is a large set, turn metric calculation off in training, and only run it in evaluation. Because this can be quite slow!"
      ]
    },
    {
      "cell_type": "code",
      "metadata": {
        "id": "3djrQCxhBZCV",
        "colab": {
          "base_uri": "https://localhost:8080/",
          "height": 295
        },
        "outputId": "52d7a26b-63da-4e7b-9412-3651a3df4215"
      },
      "source": [
        "# Plot changes in model loss during training\n",
        "import matplotlib.pyplot as plt\n",
        "\n",
        "plt.plot(history.history[\"loss\"])\n",
        "plt.plot(history.history[\"val_loss\"])\n",
        "plt.title(\"Model losses during training\")\n",
        "plt.xlabel(\"epoch\")\n",
        "plt.ylabel(\"loss\")\n",
        "plt.legend([\"train\", \"test\"], loc=\"upper right\")\n",
        "plt.show()"
      ],
      "execution_count": null,
      "outputs": [
        {
          "output_type": "display_data",
          "data": {
            "image/png": "[encoded data removed]",
            "text/plain": [
              "<Figure size 432x288 with 1 Axes>"
            ]
          },
          "metadata": {
            "tags": [],
            "needs_background": "light"
          }
        }
      ]
    },
    {
      "cell_type": "code",
      "metadata": {
        "colab": {
          "base_uri": "https://localhost:8080/",
          "height": 295
        },
        "id": "Fs0nwFpAL7YI",
        "outputId": "8b590906-bc47-4e2a-89c6-e3b2c133332f"
      },
      "source": [
        "# Plot changes in model accuracy during training\n",
        "plt.plot(history.history[\"factorized_top_k/top_100_categorical_accuracy\"])\n",
        "plt.plot(history.history[\"val_factorized_top_k/top_100_categorical_accuracy\"])\n",
        "plt.title(\"Model accuracies during training\")\n",
        "plt.xlabel(\"epoch\")\n",
        "plt.ylabel(\"accuracy\")\n",
        "plt.legend([\"train\", \"test\"], loc=\"upper right\")\n",
        "plt.show()"
      ],
      "execution_count": null,
      "outputs": [
        {
          "output_type": "display_data",
          "data": {
            "image/png": "[encoded data removed]",
            "text/plain": [
              "<Figure size 432x288 with 1 Axes>"
            ]
          },
          "metadata": {
            "tags": [],
            "needs_background": "light"
          }
        }
      ]
    },
    {
      "cell_type": "markdown",
      "metadata": {
        "id": "X25xwNezOn3v"
      },
      "source": [
        "As we can see, the model is `overfitted` on the training dataset. It works well for training data, simply because it memorized them. However, the performance on training data is not important. The model should be able to `generalize` to new unseen data.\n",
        "\n",
        "The overfitting phenomenon is especially strong when models have many parameters. It can be mediated by `model regularization` and use of user and movie features that help the model generalize better to unseen data.\n",
        "\n",
        "Moreover, The model is re-recommending some of users' already watched movies. These known-positive watches can crowd out test movies out of top K recommendations and reduce the model accuracy for test data. This can be tackled by excluding previously seen movies from test recommendations in a third stage. This approach is relatively common in the recommender systems literature, but we don't follow it in these tutorials. If not recommending past watches is important, we should expect appropriately specified models to learn this behaviour automatically from past user history and contextual information. Additionally, it is often appropriate to recommend the same item multiple times (say, an evergreen TV series or a regularly purchased item)."
      ]
    },
    {
      "cell_type": "markdown",
      "metadata": {
        "id": "vu1I9SGxXIGy"
      },
      "source": [
        "### Making predictions\n",
        "To make recommendations, at first, we have to find the representation embedding vectors for all candidates in the corpus and `index` them all for future retrieval.\n",
        "\n",
        "Then, we can get a `query`, pass it through the query tower and find its representation embedding vector.\n",
        "\n",
        "Finally, we can calculate the affinity score between the query and all the candidates, sort them and find `k-nearest` candidates to the query. It is called a `brute-force` search and TFRS exposes a layer named `tfrs.layers.factorized_top_k.BruteForce` to do this."
      ]
    },
    {
      "cell_type": "code",
      "metadata": {
        "id": "_OqB4kwwS1mR",
        "colab": {
          "base_uri": "https://localhost:8080/"
        },
        "outputId": "e7823633-d280-4413-ac9c-c9ef12bd393c"
      },
      "source": [
        "brute_force_layer = tfrs.layers.factorized_top_k.BruteForce(\n",
        "    movielens_retrieval_model.query_model\n",
        ")\n",
        "\n",
        "brute_force_layer.index_from_dataset(\n",
        "  tf.data.Dataset.zip(\n",
        "      (\n",
        "          candidates_corpus_dataset.batch(100),\n",
        "          candidates_corpus_dataset.batch(100).map(\n",
        "              movielens_retrieval_model.candidate_model\n",
        "          )\n",
        "      )\n",
        "  )\n",
        ")"
      ],
      "execution_count": null,
      "outputs": [
        {
          "output_type": "execute_result",
          "data": {
            "text/plain": [
              "<tensorflow_recommenders.layers.factorized_top_k.BruteForce at 0x7fd1975e6400>"
            ]
          },
          "metadata": {
            "tags": []
          },
          "execution_count": 17
        }
      ]
    },
    {
      "cell_type": "code",
      "metadata": {
        "id": "ccdAoIjAS0bC",
        "colab": {
          "base_uri": "https://localhost:8080/"
        },
        "outputId": "6f9933ca-9624-4752-833b-343bfb0b3f80"
      },
      "source": [
        "user_id = '42'\n",
        "afinity_scores, movie_ids = brute_force_layer(\n",
        "    tf.constant([user_id])\n",
        ")\n",
        "\n",
        "print(f\"Recommendations for user {user_id} using BruteForce: {movie_ids[0, :5]}\")"
      ],
      "execution_count": null,
      "outputs": [
        {
          "output_type": "stream",
          "text": [
            "Recommendations for user 42 using BruteForce: [b'468' b'1043' b'560' b'944' b'140']\n"
          ],
          "name": "stdout"
        }
      ]
    },
    {
      "cell_type": "markdown",
      "metadata": {
        "id": "OVlilfUEYPMa"
      },
      "source": [
        "Performing a brute-force search in a large corpus can be too slow and impractical in a production environment. In practice we can speed this up by using an `Approximate Nearest Neighbor` search instead of the brute-force search. Approximate Nearest Neighbor (`ANN`) search can greatly outperform brute-force search speed while sacrificing little in terms of accuracy.\n",
        "\n",
        "We can use Google [ScaNN](https://ai.googleblog.com/2020/07/announcing-scann-efficient-vector.html), Facebook [Faiss](https://engineering.fb.com/2017/03/29/data-infrastructure/faiss-a-library-for-efficient-similarity-search/), Spotify [Annoy](https://github.com/spotify/annoy), or other approximate vector similarity search libraries to build an `approximate retrieval index`. However, TFRS uses `ScaNN` library and exposes the layer `tfrs.layers.factorized_top_k.ScaNN` letting us make the model really end-to-end.\n",
        "\n",
        "Note: to use `tfrs.layers.factorized_top_k.ScaNN` layer, `ScaNN` library should be installed using `pip install scann` before importing the `TFRS` library.\n"
      ]
    },
    {
      "cell_type": "code",
      "metadata": {
        "colab": {
          "base_uri": "https://localhost:8080/"
        },
        "id": "2_c77jsdiPp9",
        "outputId": "d0a4fd6f-8a27-44dd-84a8-32ebf38ef3ce"
      },
      "source": [
        "scann_layer = tfrs.layers.factorized_top_k.ScaNN(\n",
        "    movielens_retrieval_model.query_model\n",
        ")\n",
        "\n",
        "scann_layer.index_from_dataset(\n",
        "  tf.data.Dataset.zip(\n",
        "      (\n",
        "          candidates_corpus_dataset.batch(100),\n",
        "          candidates_corpus_dataset.batch(100).map(\n",
        "              movielens_retrieval_model.candidate_model\n",
        "          )\n",
        "      )\n",
        "  )\n",
        ")\n",
        "\n",
        "user_id = '42'\n",
        "afinity_scores, movie_ids = scann_layer(\n",
        "    tf.constant([user_id])\n",
        ")\n",
        "\n",
        "print(f\"Recommendations for user {user_id} using ScaNN: {movie_ids[0, :5]}\")"
      ],
      "execution_count": null,
      "outputs": [
        {
          "output_type": "stream",
          "text": [
            "Recommendations for user 42 using ScaNN: [b'1043' b'944' b'356' b'140' b'560']\n"
          ],
          "name": "stdout"
        }
      ]
    },
    {
      "cell_type": "markdown",
      "metadata": {
        "id": "iumhoS_lucaV"
      },
      "source": [
        "### Save the model to use in future\n",
        "To make it possible to serve the Keras model using [TensorFlow Serving](https://www.tensorflow.org/tfx/guide/serving), export it to a `SavedModel` format."
      ]
    },
    {
      "cell_type": "code",
      "metadata": {
        "colab": {
          "base_uri": "https://localhost:8080/"
        },
        "id": "Fowdeb85j6OS",
        "outputId": "1b301bff-5db0-4460-f4c8-f7e9e443a172"
      },
      "source": [
        "import os\n",
        "import tempfile\n",
        "\n",
        "with tempfile.TemporaryDirectory() as tmp_dir:\n",
        "  retrieval_model_path = os.path.join(tmp_dir, \"retrieval_model\")\n",
        "\n",
        "\n",
        "scann_layer.save(\n",
        "    retrieval_model_path,\n",
        "    options=tf.saved_model.SaveOptions(namespace_whitelist=[\"Scann\"])\n",
        ")"
      ],
      "execution_count": null,
      "outputs": [
        {
          "output_type": "stream",
          "text": [
            "WARNING:absl:Found untraced functions such as query_with_exclusions, embedding_layer_call_and_return_conditional_losses, embedding_layer_call_fn, embedding_layer_call_fn, embedding_layer_call_and_return_conditional_losses while saving (showing 5 of 6). These functions will not be directly callable after loading.\n",
            "WARNING:absl:Found untraced functions such as query_with_exclusions, embedding_layer_call_and_return_conditional_losses, embedding_layer_call_fn, embedding_layer_call_fn, embedding_layer_call_and_return_conditional_losses while saving (showing 5 of 6). These functions will not be directly callable after loading.\n"
          ],
          "name": "stderr"
        },
        {
          "output_type": "stream",
          "text": [
            "INFO:tensorflow:Assets written to: /tmp/tmplyr89r93/retrieval_model/assets\n"
          ],
          "name": "stdout"
        },
        {
          "output_type": "stream",
          "text": [
            "INFO:tensorflow:Assets written to: /tmp/tmplyr89r93/retrieval_model/assets\n"
          ],
          "name": "stderr"
        }
      ]
    },
    {
      "cell_type": "code",
      "metadata": {
        "id": "UNET0awMnJ-X"
      },
      "source": [
        "# Reload the saved model to confirm that it works correctly\n",
        "reloaded_model = tf.keras.models.load_model(retrieval_model_path)\n",
        "afinity_scores, movie_ids = reloaded_model(\n",
        "    tf.constant([user_id])\n",
        ")\n",
        "\n",
        "print(f\"Recommendations for user {user_id} using reloaded saved model: {movie_ids[0, :5]}\")"
      ],
      "execution_count": null,
      "outputs": []
    },
    {
      "cell_type": "markdown",
      "metadata": {
        "id": "tnRXsM-3xsGU"
      },
      "source": [
        "If the saved model works correctly, back it up from the temporary directory to your Google Drive, download it from there, copy to your server (`retrieval_model/1/saved_model.pb`) and serve it."
      ]
    },
    {
      "cell_type": "markdown",
      "metadata": {
        "id": "FZznewEYzYh1"
      },
      "source": [
        "### Serve the saved model using [TensorFlow Serving](https://www.tensorflow.org/tfx/guide/serving)\n",
        "\n",
        "We can use TensorFlow Serving Docker image to run a Docker container serving the saved model. Note that `tensorflow/serving` image doesn't support `ScaNN` layer, so it's important to use `google/tf-serving-scann` custom image instead.\n",
        "\n",
        "TF Serving uses the port 8500 for gRPC and the port 8501 for REST APIs.\n",
        "\n",
        "```\n",
        "docker run -p 8501:8501 \\\n",
        "--mount type=bind,source=PATH_TO_RETRIEVAL_DIR/retrieval,target=/models/retrieval \\\n",
        "-e MODEL_NAME=retrieval -t google/tf-serving-scann &\n",
        "```\n",
        "\n",
        "Now we can send the `query` as an HTTP request to the server and get the recommended candidates.\n",
        "```\n",
        "curl --location --request POST 'http://SERVER_IP_ADDRESS:8501/v1/models/retrieval:predict' \\\n",
        "--header 'Content-Type: application/json' \\\n",
        "--data-raw '{\n",
        "    \"instances\":\n",
        "        [\n",
        "            \"42\"\n",
        "        ]\n",
        "}'\n",
        "```"
      ]
    },
    {
      "cell_type": "markdown",
      "metadata": {
        "id": "3Ez1GmXvB8L-"
      },
      "source": [
        "## Build the Ranking (Scoring) task\n",
        "\n",
        "The `ranking model` takes the outputs of the retrieval model and fine-tunes them to select the best possible handful of recommendations.\n",
        "\n",
        " Its task is to narrow down the set of items the user may be interested in to a shortlist of likely candidates. So the traing set should be expressesing ***how much the users liked the movies they did watch***. This is a form of `explicit feedback` - given that a user watched a movie, we can tell roughly how much they liked by looking at the rating they have given.\n",
        "```\n",
        "[\n",
        "  (('user1', 'Star Wars'), 4.0),\n",
        "  (('user1', 'Harry Potter'), 5.0),\n",
        "  ...\n",
        "]\n",
        "```\n",
        " This time we are going to predict `user_rating` value as the objective. So like the other `regression` problems we can use `MSE (Mean Squared Error)` as loss function and `RMSE (Root Mean Squared Error)` as an accuracy metric. The state of the art (`SOTA`) RMSE value for `MovieLens/100k` is equal to `0.909`.\n",
        "\n",
        "`tfrs.tasks.Ranking` layer gets the predicted ratings and the `ground truth` as input, calculates the metrics and returns the loss value.\n",
        "\n",
        "Ranking models do not face the same efficiency constraints as retrieval models do, and so we have a little bit more freedom in our choice of architectures. A model composed of multiple stacked `Dense` layers is a relatively common architecture for ranking tasks.\n",
        "\n",
        "In most cases, a ranking model can be substantially improved by using more features rather than just user and candidate identifiers."
      ]
    },
    {
      "cell_type": "code",
      "metadata": {
        "id": "TLwaxI00k1xX"
      },
      "source": [
        "class RankingModel(tfrs.models.Model):\n",
        "  \"\"\"MovieLens ranking model\"\"\"\n",
        "\n",
        "  def __init__(self, query_model, candidate_model):\n",
        "    super().__init__()\n",
        "\n",
        "    self.query_model: tf.keras.Model = query_model\n",
        "    self.candidate_model: tf.keras.Model = candidate_model\n",
        "    self.rating_model = tf.keras.Sequential(\n",
        "        [\n",
        "            tf.keras.layers.Dense(256, activation='relu'),\n",
        "            tf.keras.layers.Dense(64, activation='relu'),\n",
        "            tf.keras.layers.Dense(1)\n",
        "        ]\n",
        "    )\n",
        "    self.ranking_task_layer: tf.keras.layers.Layer = tfrs.tasks.Ranking(\n",
        "        loss=tf.keras.losses.MeanSquaredError(),\n",
        "        metrics=[\n",
        "            tf.keras.metrics.RootMeanSquaredError()\n",
        "        ]\n",
        "    )\n",
        "\n",
        "\n",
        "  def compute_loss(self, features, training=False) -> tf.Tensor:\n",
        "    query_embeddings = self.query_model(features['user_id'])\n",
        "    candidate_embeddings = self.candidate_model(features[\"movie_id\"])\n",
        "    rating_predictions = self.rating_model(\n",
        "        tf.concat(\n",
        "            [query_embeddings, candidate_embeddings],\n",
        "            axis=1\n",
        "        )\n",
        "        # We could use `tf.keras.layers.Concatenate(axis=1)([x, y])`\n",
        "    )\n",
        "\n",
        "    loss = self.ranking_task_layer(\n",
        "        predictions=rating_predictions,\n",
        "        labels=features[\"user_rating\"]\n",
        "    )\n",
        "    return loss"
      ],
      "execution_count": null,
      "outputs": []
    },
    {
      "cell_type": "markdown",
      "metadata": {
        "id": "it4JTHYF1eh-"
      },
      "source": [
        "### Fit the ranking model"
      ]
    },
    {
      "cell_type": "code",
      "metadata": {
        "id": "BijEncJG1iaW"
      },
      "source": [
        "movielens_ranking_model = RankingModel(query_model, candidate_model)\n",
        "\n",
        "optimizer_step_size = 0.1\n",
        "movielens_ranking_model.compile(\n",
        "    optimizer=tf.keras.optimizers.Adagrad(\n",
        "        learning_rate=optimizer_step_size\n",
        "    )\n",
        ")"
      ],
      "execution_count": null,
      "outputs": []
    },
    {
      "cell_type": "code",
      "metadata": {
        "colab": {
          "base_uri": "https://localhost:8080/"
        },
        "id": "JXZykvH6-DvF",
        "outputId": "8ed2414d-5cb9-4fbe-b4df-20189d1b909e"
      },
      "source": [
        "ranking_ratings_trainset = ratings_trainset.shuffle(100_000).batch(8192).cache()\n",
        "ranking_ratings_testset = ratings_testset.batch(4096).cache()\n",
        "\n",
        "history = movielens_ranking_model.fit(\n",
        "    ranking_ratings_trainset,\n",
        "    validation_data=ranking_ratings_testset,\n",
        "    validation_freq=1,\n",
        "    epochs=5\n",
        ")"
      ],
      "execution_count": null,
      "outputs": [
        {
          "output_type": "stream",
          "text": [
            "Epoch 1/5\n",
            "10/10 [==============================] - 2s 144ms/step - root_mean_squared_error: 2.7292 - loss: 6.7427 - regularization_loss: 0.0000e+00 - total_loss: 6.7427 - val_root_mean_squared_error: 1.0694 - val_loss: 1.1080 - val_regularization_loss: 0.0000e+00 - val_total_loss: 1.1080\n",
            "Epoch 2/5\n",
            "10/10 [==============================] - 1s 77ms/step - root_mean_squared_error: 1.0666 - loss: 1.1324 - regularization_loss: 0.0000e+00 - total_loss: 1.1324 - val_root_mean_squared_error: 1.0556 - val_loss: 1.0822 - val_regularization_loss: 0.0000e+00 - val_total_loss: 1.0822\n",
            "Epoch 3/5\n",
            "10/10 [==============================] - 1s 61ms/step - root_mean_squared_error: 1.0394 - loss: 1.0736 - regularization_loss: 0.0000e+00 - total_loss: 1.0736 - val_root_mean_squared_error: 1.0142 - val_loss: 0.9957 - val_regularization_loss: 0.0000e+00 - val_total_loss: 0.9957\n",
            "Epoch 4/5\n",
            "10/10 [==============================] - 1s 62ms/step - root_mean_squared_error: 1.0131 - loss: 1.0225 - regularization_loss: 0.0000e+00 - total_loss: 1.0225 - val_root_mean_squared_error: 0.9991 - val_loss: 0.9650 - val_regularization_loss: 0.0000e+00 - val_total_loss: 0.9650\n",
            "Epoch 5/5\n",
            "10/10 [==============================] - 1s 61ms/step - root_mean_squared_error: 1.0068 - loss: 1.0112 - regularization_loss: 0.0000e+00 - total_loss: 1.0112 - val_root_mean_squared_error: 0.9986 - val_loss: 0.9639 - val_regularization_loss: 0.0000e+00 - val_total_loss: 0.9639\n"
          ],
          "name": "stdout"
        }
      ]
    },
    {
      "cell_type": "code",
      "metadata": {
        "colab": {
          "base_uri": "https://localhost:8080/",
          "height": 295
        },
        "id": "1-uNjmoY-gsA",
        "outputId": "611bee0c-cce8-4a2a-8f6e-77d828180abe"
      },
      "source": [
        "# Plot changes in model loss during training\n",
        "plt.plot(history.history[\"loss\"])\n",
        "plt.plot(history.history[\"val_loss\"])\n",
        "plt.title(\"Model losses during training\")\n",
        "plt.xlabel(\"epoch\")\n",
        "plt.ylabel(\"loss\")\n",
        "plt.legend([\"train\", \"test\"], loc=\"upper right\")\n",
        "plt.show()"
      ],
      "execution_count": null,
      "outputs": [
        {
          "output_type": "display_data",
          "data": {
            "image/png": "[encoded data removed]",
            "text/plain": [
              "<Figure size 432x288 with 1 Axes>"
            ]
          },
          "metadata": {
            "tags": [],
            "needs_background": "light"
          }
        }
      ]
    },
    {
      "cell_type": "markdown",
      "metadata": {
        "id": "Haid763z4PL2"
      },
      "source": [
        "## Next Step\n",
        "Of course, making a powerful recommender system requires much more effort. You can read these materials to dive in deeper.\n",
        "\n",
        "<p>&nbsp;</p>\n",
        "\n",
        "[Side Features] https://www.tensorflow.org/recommenders/examples/featurization\n",
        "\n",
        "[Context Features] https://www.tensorflow.org/recommenders/examples/context_features\n",
        "\n",
        "[Deep Recommenders] https://www.tensorflow.org/recommenders/examples/deep_recommenders\n",
        "\n",
        "[Multi-task Recommenders] https://www.tensorflow.org/recommenders/examples/multitask\n",
        "\n",
        "[DCN] https://www.tensorflow.org/recommenders/examples/dcn\n",
        "\n",
        "<p>&nbsp;</p>\n",
        "\n",
        "Papers:\n",
        "\n",
        "[Two-tower neural network] https://storage.googleapis.com/pub-tools-public-publication-data/pdf/6c8a86c981a62b0126a11896b7f6ae0dae4c3566.pdf\n",
        "\n",
        "[SOTA] https://arxiv.org/pdf/1905.01395v1.pdf\n",
        "\n",
        "[SSL] https://arxiv.org/abs/2007.12865\n",
        "\n",
        "[Multi-task] http://www.jiaqima.com/papers/SNR.pdf\n",
        "\n",
        "<p>&nbsp;</p>\n",
        "\n",
        "References:\n",
        "\n",
        "[1] https://developers.google.com/machine-learning/recommendation/overview\n",
        "\n",
        "[2] https://www.tensorflow.org/recommenders"
      ]
    },
    {
      "cell_type": "markdown",
      "metadata": {
        "id": "7TqxYMXOGcrC"
      },
      "source": [
        "## Donation\n",
        "Give a ⭐ if this tutorial helped you!\n",
        "\n",
        "https://github.com/xei/recommender-system-tutorial"
      ]
    }
  ]
}